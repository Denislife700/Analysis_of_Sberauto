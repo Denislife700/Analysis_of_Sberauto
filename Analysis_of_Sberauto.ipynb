{
 "cells": [
  {
   "cell_type": "code",
   "execution_count": 1,
   "id": "9ea89815",
   "metadata": {},
   "outputs": [],
   "source": [
    "#Импорт библиотек\n",
    "import pandas as pd\n",
    "import missingno as msno\n",
    "import matplotlib.pyplot as plt\n",
    "import pickle\n",
    "import time\n",
    "from tqdm import tqdm\n",
    "from scipy import stats\n",
    "import pprint\n",
    "\n",
    "from matplotlib.ticker import FormatStrFormatter"
   ]
  },
  {
   "cell_type": "markdown",
   "id": "3589be62",
   "metadata": {},
   "source": [
    "# 1. Загрузка данных"
   ]
  },
  {
   "cell_type": "code",
   "execution_count": 2,
   "id": "7c7e9428",
   "metadata": {},
   "outputs": [
    {
     "name": "stderr",
     "output_type": "stream",
     "text": [
      "C:\\Users\\Denis\\AppData\\Local\\Temp\\ipykernel_10248\\2466688719.py:1: DtypeWarning: Columns (1) have mixed types. Specify dtype option on import or set low_memory=False.\n",
      "  df_sessions = pd.read_csv('data/ga_sessions.csv')\n"
     ]
    },
    {
     "name": "stdout",
     "output_type": "stream",
     "text": [
      "(1860042, 18)\n"
     ]
    },
    {
     "data": {
      "text/html": [
       "<div>\n",
       "<style scoped>\n",
       "    .dataframe tbody tr th:only-of-type {\n",
       "        vertical-align: middle;\n",
       "    }\n",
       "\n",
       "    .dataframe tbody tr th {\n",
       "        vertical-align: top;\n",
       "    }\n",
       "\n",
       "    .dataframe thead th {\n",
       "        text-align: right;\n",
       "    }\n",
       "</style>\n",
       "<table border=\"1\" class=\"dataframe\">\n",
       "  <thead>\n",
       "    <tr style=\"text-align: right;\">\n",
       "      <th></th>\n",
       "      <th>session_id</th>\n",
       "      <th>client_id</th>\n",
       "      <th>visit_date</th>\n",
       "      <th>visit_time</th>\n",
       "      <th>visit_number</th>\n",
       "      <th>utm_source</th>\n",
       "      <th>utm_medium</th>\n",
       "      <th>utm_campaign</th>\n",
       "      <th>utm_adcontent</th>\n",
       "      <th>utm_keyword</th>\n",
       "      <th>device_category</th>\n",
       "      <th>device_os</th>\n",
       "      <th>device_brand</th>\n",
       "      <th>device_model</th>\n",
       "      <th>device_screen_resolution</th>\n",
       "      <th>device_browser</th>\n",
       "      <th>geo_country</th>\n",
       "      <th>geo_city</th>\n",
       "    </tr>\n",
       "  </thead>\n",
       "  <tbody>\n",
       "    <tr>\n",
       "      <th>0</th>\n",
       "      <td>9055434745589932991.1637753792.1637753792</td>\n",
       "      <td>2108382700.163776</td>\n",
       "      <td>2021-11-24</td>\n",
       "      <td>14:36:32</td>\n",
       "      <td>1</td>\n",
       "      <td>ZpYIoDJMcFzVoPFsHGJL</td>\n",
       "      <td>banner</td>\n",
       "      <td>LEoPHuyFvzoNfnzGgfcd</td>\n",
       "      <td>vCIpmpaGBnIQhyYNkXqp</td>\n",
       "      <td>puhZPIYqKXeFPaUviSjo</td>\n",
       "      <td>mobile</td>\n",
       "      <td>Android</td>\n",
       "      <td>Huawei</td>\n",
       "      <td>NaN</td>\n",
       "      <td>360x720</td>\n",
       "      <td>Chrome</td>\n",
       "      <td>Russia</td>\n",
       "      <td>Zlatoust</td>\n",
       "    </tr>\n",
       "    <tr>\n",
       "      <th>1</th>\n",
       "      <td>905544597018549464.1636867290.1636867290</td>\n",
       "      <td>210838531.163687</td>\n",
       "      <td>2021-11-14</td>\n",
       "      <td>08:21:30</td>\n",
       "      <td>1</td>\n",
       "      <td>MvfHsxITijuriZxsqZqt</td>\n",
       "      <td>cpm</td>\n",
       "      <td>FTjNLDyTrXaWYgZymFkV</td>\n",
       "      <td>xhoenQgDQsgfEPYNPwKO</td>\n",
       "      <td>IGUCNvHlhfHpROGclCit</td>\n",
       "      <td>mobile</td>\n",
       "      <td>Android</td>\n",
       "      <td>Samsung</td>\n",
       "      <td>NaN</td>\n",
       "      <td>385x854</td>\n",
       "      <td>Samsung Internet</td>\n",
       "      <td>Russia</td>\n",
       "      <td>Moscow</td>\n",
       "    </tr>\n",
       "    <tr>\n",
       "      <th>2</th>\n",
       "      <td>9055446045651783499.1640648526.1640648526</td>\n",
       "      <td>2108385331.164065</td>\n",
       "      <td>2021-12-28</td>\n",
       "      <td>02:42:06</td>\n",
       "      <td>1</td>\n",
       "      <td>ZpYIoDJMcFzVoPFsHGJL</td>\n",
       "      <td>banner</td>\n",
       "      <td>LEoPHuyFvzoNfnzGgfcd</td>\n",
       "      <td>vCIpmpaGBnIQhyYNkXqp</td>\n",
       "      <td>puhZPIYqKXeFPaUviSjo</td>\n",
       "      <td>mobile</td>\n",
       "      <td>Android</td>\n",
       "      <td>Huawei</td>\n",
       "      <td>NaN</td>\n",
       "      <td>360x720</td>\n",
       "      <td>Chrome</td>\n",
       "      <td>Russia</td>\n",
       "      <td>Krasnoyarsk</td>\n",
       "    </tr>\n",
       "    <tr>\n",
       "      <th>3</th>\n",
       "      <td>9055447046360770272.1622255328.1622255328</td>\n",
       "      <td>2108385564.162225</td>\n",
       "      <td>2021-05-29</td>\n",
       "      <td>05:00:00</td>\n",
       "      <td>1</td>\n",
       "      <td>kjsLglQLzykiRbcDiGcD</td>\n",
       "      <td>cpc</td>\n",
       "      <td>NaN</td>\n",
       "      <td>NOBKLgtuvqYWkXQHeYWM</td>\n",
       "      <td>NaN</td>\n",
       "      <td>mobile</td>\n",
       "      <td>NaN</td>\n",
       "      <td>Xiaomi</td>\n",
       "      <td>NaN</td>\n",
       "      <td>393x786</td>\n",
       "      <td>Chrome</td>\n",
       "      <td>Russia</td>\n",
       "      <td>Moscow</td>\n",
       "    </tr>\n",
       "    <tr>\n",
       "      <th>4</th>\n",
       "      <td>9055447046360770272.1622255345.1622255345</td>\n",
       "      <td>2108385564.162225</td>\n",
       "      <td>2021-05-29</td>\n",
       "      <td>05:00:00</td>\n",
       "      <td>2</td>\n",
       "      <td>kjsLglQLzykiRbcDiGcD</td>\n",
       "      <td>cpc</td>\n",
       "      <td>NaN</td>\n",
       "      <td>NaN</td>\n",
       "      <td>NaN</td>\n",
       "      <td>mobile</td>\n",
       "      <td>NaN</td>\n",
       "      <td>Xiaomi</td>\n",
       "      <td>NaN</td>\n",
       "      <td>393x786</td>\n",
       "      <td>Chrome</td>\n",
       "      <td>Russia</td>\n",
       "      <td>Moscow</td>\n",
       "    </tr>\n",
       "  </tbody>\n",
       "</table>\n",
       "</div>"
      ],
      "text/plain": [
       "                                  session_id          client_id  visit_date  \\\n",
       "0  9055434745589932991.1637753792.1637753792  2108382700.163776  2021-11-24   \n",
       "1   905544597018549464.1636867290.1636867290   210838531.163687  2021-11-14   \n",
       "2  9055446045651783499.1640648526.1640648526  2108385331.164065  2021-12-28   \n",
       "3  9055447046360770272.1622255328.1622255328  2108385564.162225  2021-05-29   \n",
       "4  9055447046360770272.1622255345.1622255345  2108385564.162225  2021-05-29   \n",
       "\n",
       "  visit_time  visit_number            utm_source utm_medium  \\\n",
       "0   14:36:32             1  ZpYIoDJMcFzVoPFsHGJL     banner   \n",
       "1   08:21:30             1  MvfHsxITijuriZxsqZqt        cpm   \n",
       "2   02:42:06             1  ZpYIoDJMcFzVoPFsHGJL     banner   \n",
       "3   05:00:00             1  kjsLglQLzykiRbcDiGcD        cpc   \n",
       "4   05:00:00             2  kjsLglQLzykiRbcDiGcD        cpc   \n",
       "\n",
       "           utm_campaign         utm_adcontent           utm_keyword  \\\n",
       "0  LEoPHuyFvzoNfnzGgfcd  vCIpmpaGBnIQhyYNkXqp  puhZPIYqKXeFPaUviSjo   \n",
       "1  FTjNLDyTrXaWYgZymFkV  xhoenQgDQsgfEPYNPwKO  IGUCNvHlhfHpROGclCit   \n",
       "2  LEoPHuyFvzoNfnzGgfcd  vCIpmpaGBnIQhyYNkXqp  puhZPIYqKXeFPaUviSjo   \n",
       "3                   NaN  NOBKLgtuvqYWkXQHeYWM                   NaN   \n",
       "4                   NaN                   NaN                   NaN   \n",
       "\n",
       "  device_category device_os device_brand device_model  \\\n",
       "0          mobile   Android       Huawei          NaN   \n",
       "1          mobile   Android      Samsung          NaN   \n",
       "2          mobile   Android       Huawei          NaN   \n",
       "3          mobile       NaN       Xiaomi          NaN   \n",
       "4          mobile       NaN       Xiaomi          NaN   \n",
       "\n",
       "  device_screen_resolution    device_browser geo_country     geo_city  \n",
       "0                  360x720            Chrome      Russia     Zlatoust  \n",
       "1                  385x854  Samsung Internet      Russia       Moscow  \n",
       "2                  360x720            Chrome      Russia  Krasnoyarsk  \n",
       "3                  393x786            Chrome      Russia       Moscow  \n",
       "4                  393x786            Chrome      Russia       Moscow  "
      ]
     },
     "execution_count": 2,
     "metadata": {},
     "output_type": "execute_result"
    }
   ],
   "source": [
    "df_sessions = pd.read_csv('data/ga_sessions.csv')\n",
    "print(df_sessions.shape)\n",
    "df_sessions.head()"
   ]
  },
  {
   "cell_type": "code",
   "execution_count": 3,
   "id": "fad25946",
   "metadata": {},
   "outputs": [
    {
     "name": "stdout",
     "output_type": "stream",
     "text": [
      "(15726470, 11)\n"
     ]
    },
    {
     "data": {
      "text/html": [
       "<div>\n",
       "<style scoped>\n",
       "    .dataframe tbody tr th:only-of-type {\n",
       "        vertical-align: middle;\n",
       "    }\n",
       "\n",
       "    .dataframe tbody tr th {\n",
       "        vertical-align: top;\n",
       "    }\n",
       "\n",
       "    .dataframe thead th {\n",
       "        text-align: right;\n",
       "    }\n",
       "</style>\n",
       "<table border=\"1\" class=\"dataframe\">\n",
       "  <thead>\n",
       "    <tr style=\"text-align: right;\">\n",
       "      <th></th>\n",
       "      <th>session_id</th>\n",
       "      <th>hit_date</th>\n",
       "      <th>hit_time</th>\n",
       "      <th>hit_number</th>\n",
       "      <th>hit_type</th>\n",
       "      <th>hit_referer</th>\n",
       "      <th>hit_page_path</th>\n",
       "      <th>event_category</th>\n",
       "      <th>event_action</th>\n",
       "      <th>event_label</th>\n",
       "      <th>event_value</th>\n",
       "    </tr>\n",
       "  </thead>\n",
       "  <tbody>\n",
       "    <tr>\n",
       "      <th>0</th>\n",
       "      <td>5639623078712724064.1640254056.1640254056</td>\n",
       "      <td>2021-12-23</td>\n",
       "      <td>597864.0</td>\n",
       "      <td>30</td>\n",
       "      <td>event</td>\n",
       "      <td>NaN</td>\n",
       "      <td>sberauto.com/cars?utm_source_initial=google&amp;ut...</td>\n",
       "      <td>quiz</td>\n",
       "      <td>quiz_show</td>\n",
       "      <td>NaN</td>\n",
       "      <td>NaN</td>\n",
       "    </tr>\n",
       "    <tr>\n",
       "      <th>1</th>\n",
       "      <td>7750352294969115059.1640271109.1640271109</td>\n",
       "      <td>2021-12-23</td>\n",
       "      <td>597331.0</td>\n",
       "      <td>41</td>\n",
       "      <td>event</td>\n",
       "      <td>NaN</td>\n",
       "      <td>sberauto.com/cars/fiat?city=1&amp;city=18&amp;rental_c...</td>\n",
       "      <td>quiz</td>\n",
       "      <td>quiz_show</td>\n",
       "      <td>NaN</td>\n",
       "      <td>NaN</td>\n",
       "    </tr>\n",
       "    <tr>\n",
       "      <th>2</th>\n",
       "      <td>885342191847998240.1640235807.1640235807</td>\n",
       "      <td>2021-12-23</td>\n",
       "      <td>796252.0</td>\n",
       "      <td>49</td>\n",
       "      <td>event</td>\n",
       "      <td>NaN</td>\n",
       "      <td>sberauto.com/cars/all/volkswagen/polo/e994838f...</td>\n",
       "      <td>quiz</td>\n",
       "      <td>quiz_show</td>\n",
       "      <td>NaN</td>\n",
       "      <td>NaN</td>\n",
       "    </tr>\n",
       "    <tr>\n",
       "      <th>3</th>\n",
       "      <td>142526202120934167.1640211014.1640211014</td>\n",
       "      <td>2021-12-23</td>\n",
       "      <td>934292.0</td>\n",
       "      <td>46</td>\n",
       "      <td>event</td>\n",
       "      <td>NaN</td>\n",
       "      <td>sberauto.com/cars?utm_source_initial=yandex&amp;ut...</td>\n",
       "      <td>quiz</td>\n",
       "      <td>quiz_show</td>\n",
       "      <td>NaN</td>\n",
       "      <td>NaN</td>\n",
       "    </tr>\n",
       "    <tr>\n",
       "      <th>4</th>\n",
       "      <td>3450086108837475701.1640265078.1640265078</td>\n",
       "      <td>2021-12-23</td>\n",
       "      <td>768741.0</td>\n",
       "      <td>79</td>\n",
       "      <td>event</td>\n",
       "      <td>NaN</td>\n",
       "      <td>sberauto.com/cars/all/mercedes-benz/cla-klasse...</td>\n",
       "      <td>quiz</td>\n",
       "      <td>quiz_show</td>\n",
       "      <td>NaN</td>\n",
       "      <td>NaN</td>\n",
       "    </tr>\n",
       "  </tbody>\n",
       "</table>\n",
       "</div>"
      ],
      "text/plain": [
       "                                  session_id    hit_date  hit_time  \\\n",
       "0  5639623078712724064.1640254056.1640254056  2021-12-23  597864.0   \n",
       "1  7750352294969115059.1640271109.1640271109  2021-12-23  597331.0   \n",
       "2   885342191847998240.1640235807.1640235807  2021-12-23  796252.0   \n",
       "3   142526202120934167.1640211014.1640211014  2021-12-23  934292.0   \n",
       "4  3450086108837475701.1640265078.1640265078  2021-12-23  768741.0   \n",
       "\n",
       "   hit_number hit_type hit_referer  \\\n",
       "0          30    event         NaN   \n",
       "1          41    event         NaN   \n",
       "2          49    event         NaN   \n",
       "3          46    event         NaN   \n",
       "4          79    event         NaN   \n",
       "\n",
       "                                       hit_page_path event_category  \\\n",
       "0  sberauto.com/cars?utm_source_initial=google&ut...           quiz   \n",
       "1  sberauto.com/cars/fiat?city=1&city=18&rental_c...           quiz   \n",
       "2  sberauto.com/cars/all/volkswagen/polo/e994838f...           quiz   \n",
       "3  sberauto.com/cars?utm_source_initial=yandex&ut...           quiz   \n",
       "4  sberauto.com/cars/all/mercedes-benz/cla-klasse...           quiz   \n",
       "\n",
       "  event_action event_label  event_value  \n",
       "0    quiz_show         NaN          NaN  \n",
       "1    quiz_show         NaN          NaN  \n",
       "2    quiz_show         NaN          NaN  \n",
       "3    quiz_show         NaN          NaN  \n",
       "4    quiz_show         NaN          NaN  "
      ]
     },
     "execution_count": 3,
     "metadata": {},
     "output_type": "execute_result"
    }
   ],
   "source": [
    "df_hits = pd.read_csv('data/ga_hits.csv')\n",
    "print(df_hits.shape)\n",
    "df_hits.head()"
   ]
  },
  {
   "cell_type": "code",
   "execution_count": 4,
   "id": "84763855",
   "metadata": {},
   "outputs": [
    {
     "name": "stdout",
     "output_type": "stream",
     "text": [
      "(15685219, 28)\n"
     ]
    },
    {
     "data": {
      "text/html": [
       "<div>\n",
       "<style scoped>\n",
       "    .dataframe tbody tr th:only-of-type {\n",
       "        vertical-align: middle;\n",
       "    }\n",
       "\n",
       "    .dataframe tbody tr th {\n",
       "        vertical-align: top;\n",
       "    }\n",
       "\n",
       "    .dataframe thead th {\n",
       "        text-align: right;\n",
       "    }\n",
       "</style>\n",
       "<table border=\"1\" class=\"dataframe\">\n",
       "  <thead>\n",
       "    <tr style=\"text-align: right;\">\n",
       "      <th></th>\n",
       "      <th>session_id</th>\n",
       "      <th>client_id</th>\n",
       "      <th>visit_date</th>\n",
       "      <th>visit_time</th>\n",
       "      <th>visit_number</th>\n",
       "      <th>utm_source</th>\n",
       "      <th>utm_medium</th>\n",
       "      <th>utm_campaign</th>\n",
       "      <th>utm_adcontent</th>\n",
       "      <th>utm_keyword</th>\n",
       "      <th>...</th>\n",
       "      <th>hit_date</th>\n",
       "      <th>hit_time</th>\n",
       "      <th>hit_number</th>\n",
       "      <th>hit_type</th>\n",
       "      <th>hit_referer</th>\n",
       "      <th>hit_page_path</th>\n",
       "      <th>event_category</th>\n",
       "      <th>event_action</th>\n",
       "      <th>event_label</th>\n",
       "      <th>event_value</th>\n",
       "    </tr>\n",
       "  </thead>\n",
       "  <tbody>\n",
       "    <tr>\n",
       "      <th>0</th>\n",
       "      <td>9055434745589932991.1637753792.1637753792</td>\n",
       "      <td>2108382700.163776</td>\n",
       "      <td>2021-11-24</td>\n",
       "      <td>14:36:32</td>\n",
       "      <td>1</td>\n",
       "      <td>ZpYIoDJMcFzVoPFsHGJL</td>\n",
       "      <td>banner</td>\n",
       "      <td>LEoPHuyFvzoNfnzGgfcd</td>\n",
       "      <td>vCIpmpaGBnIQhyYNkXqp</td>\n",
       "      <td>puhZPIYqKXeFPaUviSjo</td>\n",
       "      <td>...</td>\n",
       "      <td>2021-11-24</td>\n",
       "      <td>3665.0</td>\n",
       "      <td>3</td>\n",
       "      <td>event</td>\n",
       "      <td>NaN</td>\n",
       "      <td>podpiska.sberauto.com/</td>\n",
       "      <td>sub_page_view</td>\n",
       "      <td>sub_landing</td>\n",
       "      <td>NaN</td>\n",
       "      <td>NaN</td>\n",
       "    </tr>\n",
       "    <tr>\n",
       "      <th>1</th>\n",
       "      <td>9055434745589932991.1637753792.1637753792</td>\n",
       "      <td>2108382700.163776</td>\n",
       "      <td>2021-11-24</td>\n",
       "      <td>14:36:32</td>\n",
       "      <td>1</td>\n",
       "      <td>ZpYIoDJMcFzVoPFsHGJL</td>\n",
       "      <td>banner</td>\n",
       "      <td>LEoPHuyFvzoNfnzGgfcd</td>\n",
       "      <td>vCIpmpaGBnIQhyYNkXqp</td>\n",
       "      <td>puhZPIYqKXeFPaUviSjo</td>\n",
       "      <td>...</td>\n",
       "      <td>2021-11-24</td>\n",
       "      <td>46592.0</td>\n",
       "      <td>4</td>\n",
       "      <td>event</td>\n",
       "      <td>NaN</td>\n",
       "      <td>podpiska.sberauto.com/</td>\n",
       "      <td>sub_button_click</td>\n",
       "      <td>sub_view_cars_click</td>\n",
       "      <td>vodKSlUobUWTVlgsJqdI</td>\n",
       "      <td>NaN</td>\n",
       "    </tr>\n",
       "    <tr>\n",
       "      <th>2</th>\n",
       "      <td>905544597018549464.1636867290.1636867290</td>\n",
       "      <td>210838531.163687</td>\n",
       "      <td>2021-11-14</td>\n",
       "      <td>08:21:30</td>\n",
       "      <td>1</td>\n",
       "      <td>MvfHsxITijuriZxsqZqt</td>\n",
       "      <td>cpm</td>\n",
       "      <td>FTjNLDyTrXaWYgZymFkV</td>\n",
       "      <td>xhoenQgDQsgfEPYNPwKO</td>\n",
       "      <td>IGUCNvHlhfHpROGclCit</td>\n",
       "      <td>...</td>\n",
       "      <td>2021-11-14</td>\n",
       "      <td>921.0</td>\n",
       "      <td>3</td>\n",
       "      <td>event</td>\n",
       "      <td>NaN</td>\n",
       "      <td>podpiska.sberauto.com/</td>\n",
       "      <td>sub_page_view</td>\n",
       "      <td>sub_landing</td>\n",
       "      <td>NaN</td>\n",
       "      <td>NaN</td>\n",
       "    </tr>\n",
       "    <tr>\n",
       "      <th>3</th>\n",
       "      <td>9055446045651783499.1640648526.1640648526</td>\n",
       "      <td>2108385331.164065</td>\n",
       "      <td>2021-12-28</td>\n",
       "      <td>02:42:06</td>\n",
       "      <td>1</td>\n",
       "      <td>ZpYIoDJMcFzVoPFsHGJL</td>\n",
       "      <td>banner</td>\n",
       "      <td>LEoPHuyFvzoNfnzGgfcd</td>\n",
       "      <td>vCIpmpaGBnIQhyYNkXqp</td>\n",
       "      <td>puhZPIYqKXeFPaUviSjo</td>\n",
       "      <td>...</td>\n",
       "      <td>2021-12-28</td>\n",
       "      <td>84155.0</td>\n",
       "      <td>10</td>\n",
       "      <td>event</td>\n",
       "      <td>NaN</td>\n",
       "      <td>sberauto.com/cars?utm_source_initial=sbol&amp;utm_...</td>\n",
       "      <td>search_form</td>\n",
       "      <td>search_form_region</td>\n",
       "      <td>KWTCzSIXzoqUWjfUQMgP</td>\n",
       "      <td>NaN</td>\n",
       "    </tr>\n",
       "    <tr>\n",
       "      <th>4</th>\n",
       "      <td>9055446045651783499.1640648526.1640648526</td>\n",
       "      <td>2108385331.164065</td>\n",
       "      <td>2021-12-28</td>\n",
       "      <td>02:42:06</td>\n",
       "      <td>1</td>\n",
       "      <td>ZpYIoDJMcFzVoPFsHGJL</td>\n",
       "      <td>banner</td>\n",
       "      <td>LEoPHuyFvzoNfnzGgfcd</td>\n",
       "      <td>vCIpmpaGBnIQhyYNkXqp</td>\n",
       "      <td>puhZPIYqKXeFPaUviSjo</td>\n",
       "      <td>...</td>\n",
       "      <td>2021-12-28</td>\n",
       "      <td>102979.0</td>\n",
       "      <td>13</td>\n",
       "      <td>event</td>\n",
       "      <td>NaN</td>\n",
       "      <td>sberauto.com/cars?utm_source_initial=sbol&amp;utm_...</td>\n",
       "      <td>search_form</td>\n",
       "      <td>search_form_region</td>\n",
       "      <td>CBqnBQaKoQUyWJhLcxxN</td>\n",
       "      <td>NaN</td>\n",
       "    </tr>\n",
       "  </tbody>\n",
       "</table>\n",
       "<p>5 rows × 28 columns</p>\n",
       "</div>"
      ],
      "text/plain": [
       "                                  session_id          client_id  visit_date  \\\n",
       "0  9055434745589932991.1637753792.1637753792  2108382700.163776  2021-11-24   \n",
       "1  9055434745589932991.1637753792.1637753792  2108382700.163776  2021-11-24   \n",
       "2   905544597018549464.1636867290.1636867290   210838531.163687  2021-11-14   \n",
       "3  9055446045651783499.1640648526.1640648526  2108385331.164065  2021-12-28   \n",
       "4  9055446045651783499.1640648526.1640648526  2108385331.164065  2021-12-28   \n",
       "\n",
       "  visit_time  visit_number            utm_source utm_medium  \\\n",
       "0   14:36:32             1  ZpYIoDJMcFzVoPFsHGJL     banner   \n",
       "1   14:36:32             1  ZpYIoDJMcFzVoPFsHGJL     banner   \n",
       "2   08:21:30             1  MvfHsxITijuriZxsqZqt        cpm   \n",
       "3   02:42:06             1  ZpYIoDJMcFzVoPFsHGJL     banner   \n",
       "4   02:42:06             1  ZpYIoDJMcFzVoPFsHGJL     banner   \n",
       "\n",
       "           utm_campaign         utm_adcontent           utm_keyword  ...  \\\n",
       "0  LEoPHuyFvzoNfnzGgfcd  vCIpmpaGBnIQhyYNkXqp  puhZPIYqKXeFPaUviSjo  ...   \n",
       "1  LEoPHuyFvzoNfnzGgfcd  vCIpmpaGBnIQhyYNkXqp  puhZPIYqKXeFPaUviSjo  ...   \n",
       "2  FTjNLDyTrXaWYgZymFkV  xhoenQgDQsgfEPYNPwKO  IGUCNvHlhfHpROGclCit  ...   \n",
       "3  LEoPHuyFvzoNfnzGgfcd  vCIpmpaGBnIQhyYNkXqp  puhZPIYqKXeFPaUviSjo  ...   \n",
       "4  LEoPHuyFvzoNfnzGgfcd  vCIpmpaGBnIQhyYNkXqp  puhZPIYqKXeFPaUviSjo  ...   \n",
       "\n",
       "     hit_date  hit_time hit_number hit_type hit_referer  \\\n",
       "0  2021-11-24    3665.0          3    event         NaN   \n",
       "1  2021-11-24   46592.0          4    event         NaN   \n",
       "2  2021-11-14     921.0          3    event         NaN   \n",
       "3  2021-12-28   84155.0         10    event         NaN   \n",
       "4  2021-12-28  102979.0         13    event         NaN   \n",
       "\n",
       "                                       hit_page_path    event_category  \\\n",
       "0                             podpiska.sberauto.com/     sub_page_view   \n",
       "1                             podpiska.sberauto.com/  sub_button_click   \n",
       "2                             podpiska.sberauto.com/     sub_page_view   \n",
       "3  sberauto.com/cars?utm_source_initial=sbol&utm_...       search_form   \n",
       "4  sberauto.com/cars?utm_source_initial=sbol&utm_...       search_form   \n",
       "\n",
       "          event_action           event_label  event_value  \n",
       "0          sub_landing                   NaN          NaN  \n",
       "1  sub_view_cars_click  vodKSlUobUWTVlgsJqdI          NaN  \n",
       "2          sub_landing                   NaN          NaN  \n",
       "3   search_form_region  KWTCzSIXzoqUWjfUQMgP          NaN  \n",
       "4   search_form_region  CBqnBQaKoQUyWJhLcxxN          NaN  \n",
       "\n",
       "[5 rows x 28 columns]"
      ]
     },
     "execution_count": 4,
     "metadata": {},
     "output_type": "execute_result"
    }
   ],
   "source": [
    "#Объеденим два датасета в один по колонке 'session_id'\n",
    "df_full = df_sessions.merge(df_hits, on = 'session_id', how = 'inner')\n",
    "print(df_full.shape)\n",
    "df_full.head()"
   ]
  },
  {
   "cell_type": "markdown",
   "id": "7abea844",
   "metadata": {},
   "source": [
    "# 2.Data Preparation"
   ]
  },
  {
   "cell_type": "code",
   "execution_count": 5,
   "id": "9ae3839b",
   "metadata": {
    "scrolled": false
   },
   "outputs": [
    {
     "name": "stdout",
     "output_type": "stream",
     "text": [
      "(15685219, 28)\n"
     ]
    },
    {
     "data": {
      "text/html": [
       "<div>\n",
       "<style scoped>\n",
       "    .dataframe tbody tr th:only-of-type {\n",
       "        vertical-align: middle;\n",
       "    }\n",
       "\n",
       "    .dataframe tbody tr th {\n",
       "        vertical-align: top;\n",
       "    }\n",
       "\n",
       "    .dataframe thead th {\n",
       "        text-align: right;\n",
       "    }\n",
       "</style>\n",
       "<table border=\"1\" class=\"dataframe\">\n",
       "  <thead>\n",
       "    <tr style=\"text-align: right;\">\n",
       "      <th></th>\n",
       "      <th>session_id</th>\n",
       "      <th>client_id</th>\n",
       "      <th>visit_date</th>\n",
       "      <th>visit_time</th>\n",
       "      <th>visit_number</th>\n",
       "      <th>utm_source</th>\n",
       "      <th>utm_medium</th>\n",
       "      <th>utm_campaign</th>\n",
       "      <th>utm_adcontent</th>\n",
       "      <th>utm_keyword</th>\n",
       "      <th>...</th>\n",
       "      <th>hit_date</th>\n",
       "      <th>hit_time</th>\n",
       "      <th>hit_number</th>\n",
       "      <th>hit_type</th>\n",
       "      <th>hit_referer</th>\n",
       "      <th>hit_page_path</th>\n",
       "      <th>event_category</th>\n",
       "      <th>event_action</th>\n",
       "      <th>event_label</th>\n",
       "      <th>event_value</th>\n",
       "    </tr>\n",
       "  </thead>\n",
       "  <tbody>\n",
       "    <tr>\n",
       "      <th>0</th>\n",
       "      <td>9055434745589932991.1637753792.1637753792</td>\n",
       "      <td>2108382700.163776</td>\n",
       "      <td>2021-11-24</td>\n",
       "      <td>14:36:32</td>\n",
       "      <td>1</td>\n",
       "      <td>ZpYIoDJMcFzVoPFsHGJL</td>\n",
       "      <td>banner</td>\n",
       "      <td>LEoPHuyFvzoNfnzGgfcd</td>\n",
       "      <td>vCIpmpaGBnIQhyYNkXqp</td>\n",
       "      <td>puhZPIYqKXeFPaUviSjo</td>\n",
       "      <td>...</td>\n",
       "      <td>2021-11-24</td>\n",
       "      <td>3665.0</td>\n",
       "      <td>3</td>\n",
       "      <td>event</td>\n",
       "      <td>NaN</td>\n",
       "      <td>podpiska.sberauto.com/</td>\n",
       "      <td>sub_page_view</td>\n",
       "      <td>sub_landing</td>\n",
       "      <td>NaN</td>\n",
       "      <td>NaN</td>\n",
       "    </tr>\n",
       "    <tr>\n",
       "      <th>1</th>\n",
       "      <td>9055434745589932991.1637753792.1637753792</td>\n",
       "      <td>2108382700.163776</td>\n",
       "      <td>2021-11-24</td>\n",
       "      <td>14:36:32</td>\n",
       "      <td>1</td>\n",
       "      <td>ZpYIoDJMcFzVoPFsHGJL</td>\n",
       "      <td>banner</td>\n",
       "      <td>LEoPHuyFvzoNfnzGgfcd</td>\n",
       "      <td>vCIpmpaGBnIQhyYNkXqp</td>\n",
       "      <td>puhZPIYqKXeFPaUviSjo</td>\n",
       "      <td>...</td>\n",
       "      <td>2021-11-24</td>\n",
       "      <td>46592.0</td>\n",
       "      <td>4</td>\n",
       "      <td>event</td>\n",
       "      <td>NaN</td>\n",
       "      <td>podpiska.sberauto.com/</td>\n",
       "      <td>sub_button_click</td>\n",
       "      <td>sub_view_cars_click</td>\n",
       "      <td>vodKSlUobUWTVlgsJqdI</td>\n",
       "      <td>NaN</td>\n",
       "    </tr>\n",
       "    <tr>\n",
       "      <th>2</th>\n",
       "      <td>905544597018549464.1636867290.1636867290</td>\n",
       "      <td>210838531.163687</td>\n",
       "      <td>2021-11-14</td>\n",
       "      <td>08:21:30</td>\n",
       "      <td>1</td>\n",
       "      <td>MvfHsxITijuriZxsqZqt</td>\n",
       "      <td>cpm</td>\n",
       "      <td>FTjNLDyTrXaWYgZymFkV</td>\n",
       "      <td>xhoenQgDQsgfEPYNPwKO</td>\n",
       "      <td>IGUCNvHlhfHpROGclCit</td>\n",
       "      <td>...</td>\n",
       "      <td>2021-11-14</td>\n",
       "      <td>921.0</td>\n",
       "      <td>3</td>\n",
       "      <td>event</td>\n",
       "      <td>NaN</td>\n",
       "      <td>podpiska.sberauto.com/</td>\n",
       "      <td>sub_page_view</td>\n",
       "      <td>sub_landing</td>\n",
       "      <td>NaN</td>\n",
       "      <td>NaN</td>\n",
       "    </tr>\n",
       "    <tr>\n",
       "      <th>3</th>\n",
       "      <td>9055446045651783499.1640648526.1640648526</td>\n",
       "      <td>2108385331.164065</td>\n",
       "      <td>2021-12-28</td>\n",
       "      <td>02:42:06</td>\n",
       "      <td>1</td>\n",
       "      <td>ZpYIoDJMcFzVoPFsHGJL</td>\n",
       "      <td>banner</td>\n",
       "      <td>LEoPHuyFvzoNfnzGgfcd</td>\n",
       "      <td>vCIpmpaGBnIQhyYNkXqp</td>\n",
       "      <td>puhZPIYqKXeFPaUviSjo</td>\n",
       "      <td>...</td>\n",
       "      <td>2021-12-28</td>\n",
       "      <td>84155.0</td>\n",
       "      <td>10</td>\n",
       "      <td>event</td>\n",
       "      <td>NaN</td>\n",
       "      <td>sberauto.com/cars?utm_source_initial=sbol&amp;utm_...</td>\n",
       "      <td>search_form</td>\n",
       "      <td>search_form_region</td>\n",
       "      <td>KWTCzSIXzoqUWjfUQMgP</td>\n",
       "      <td>NaN</td>\n",
       "    </tr>\n",
       "    <tr>\n",
       "      <th>4</th>\n",
       "      <td>9055446045651783499.1640648526.1640648526</td>\n",
       "      <td>2108385331.164065</td>\n",
       "      <td>2021-12-28</td>\n",
       "      <td>02:42:06</td>\n",
       "      <td>1</td>\n",
       "      <td>ZpYIoDJMcFzVoPFsHGJL</td>\n",
       "      <td>banner</td>\n",
       "      <td>LEoPHuyFvzoNfnzGgfcd</td>\n",
       "      <td>vCIpmpaGBnIQhyYNkXqp</td>\n",
       "      <td>puhZPIYqKXeFPaUviSjo</td>\n",
       "      <td>...</td>\n",
       "      <td>2021-12-28</td>\n",
       "      <td>102979.0</td>\n",
       "      <td>13</td>\n",
       "      <td>event</td>\n",
       "      <td>NaN</td>\n",
       "      <td>sberauto.com/cars?utm_source_initial=sbol&amp;utm_...</td>\n",
       "      <td>search_form</td>\n",
       "      <td>search_form_region</td>\n",
       "      <td>CBqnBQaKoQUyWJhLcxxN</td>\n",
       "      <td>NaN</td>\n",
       "    </tr>\n",
       "  </tbody>\n",
       "</table>\n",
       "<p>5 rows × 28 columns</p>\n",
       "</div>"
      ],
      "text/plain": [
       "                                  session_id          client_id  visit_date  \\\n",
       "0  9055434745589932991.1637753792.1637753792  2108382700.163776  2021-11-24   \n",
       "1  9055434745589932991.1637753792.1637753792  2108382700.163776  2021-11-24   \n",
       "2   905544597018549464.1636867290.1636867290   210838531.163687  2021-11-14   \n",
       "3  9055446045651783499.1640648526.1640648526  2108385331.164065  2021-12-28   \n",
       "4  9055446045651783499.1640648526.1640648526  2108385331.164065  2021-12-28   \n",
       "\n",
       "  visit_time  visit_number            utm_source utm_medium  \\\n",
       "0   14:36:32             1  ZpYIoDJMcFzVoPFsHGJL     banner   \n",
       "1   14:36:32             1  ZpYIoDJMcFzVoPFsHGJL     banner   \n",
       "2   08:21:30             1  MvfHsxITijuriZxsqZqt        cpm   \n",
       "3   02:42:06             1  ZpYIoDJMcFzVoPFsHGJL     banner   \n",
       "4   02:42:06             1  ZpYIoDJMcFzVoPFsHGJL     banner   \n",
       "\n",
       "           utm_campaign         utm_adcontent           utm_keyword  ...  \\\n",
       "0  LEoPHuyFvzoNfnzGgfcd  vCIpmpaGBnIQhyYNkXqp  puhZPIYqKXeFPaUviSjo  ...   \n",
       "1  LEoPHuyFvzoNfnzGgfcd  vCIpmpaGBnIQhyYNkXqp  puhZPIYqKXeFPaUviSjo  ...   \n",
       "2  FTjNLDyTrXaWYgZymFkV  xhoenQgDQsgfEPYNPwKO  IGUCNvHlhfHpROGclCit  ...   \n",
       "3  LEoPHuyFvzoNfnzGgfcd  vCIpmpaGBnIQhyYNkXqp  puhZPIYqKXeFPaUviSjo  ...   \n",
       "4  LEoPHuyFvzoNfnzGgfcd  vCIpmpaGBnIQhyYNkXqp  puhZPIYqKXeFPaUviSjo  ...   \n",
       "\n",
       "     hit_date  hit_time hit_number hit_type hit_referer  \\\n",
       "0  2021-11-24    3665.0          3    event         NaN   \n",
       "1  2021-11-24   46592.0          4    event         NaN   \n",
       "2  2021-11-14     921.0          3    event         NaN   \n",
       "3  2021-12-28   84155.0         10    event         NaN   \n",
       "4  2021-12-28  102979.0         13    event         NaN   \n",
       "\n",
       "                                       hit_page_path    event_category  \\\n",
       "0                             podpiska.sberauto.com/     sub_page_view   \n",
       "1                             podpiska.sberauto.com/  sub_button_click   \n",
       "2                             podpiska.sberauto.com/     sub_page_view   \n",
       "3  sberauto.com/cars?utm_source_initial=sbol&utm_...       search_form   \n",
       "4  sberauto.com/cars?utm_source_initial=sbol&utm_...       search_form   \n",
       "\n",
       "          event_action           event_label  event_value  \n",
       "0          sub_landing                   NaN          NaN  \n",
       "1  sub_view_cars_click  vodKSlUobUWTVlgsJqdI          NaN  \n",
       "2          sub_landing                   NaN          NaN  \n",
       "3   search_form_region  KWTCzSIXzoqUWjfUQMgP          NaN  \n",
       "4   search_form_region  CBqnBQaKoQUyWJhLcxxN          NaN  \n",
       "\n",
       "[5 rows x 28 columns]"
      ]
     },
     "execution_count": 5,
     "metadata": {},
     "output_type": "execute_result"
    }
   ],
   "source": [
    "df_clean = df_full.copy()\n",
    "print(df_clean.shape)\n",
    "df_clean.head()"
   ]
  },
  {
   "cell_type": "markdown",
   "id": "619b1a2e",
   "metadata": {},
   "source": [
    "# 3.Data Cleaning"
   ]
  },
  {
   "cell_type": "markdown",
   "id": "4facc882",
   "metadata": {},
   "source": [
    "### 3.1 Проверка данных на дубликаты"
   ]
  },
  {
   "cell_type": "code",
   "execution_count": 6,
   "id": "f3631f6e",
   "metadata": {},
   "outputs": [
    {
     "data": {
      "text/html": [
       "<div>\n",
       "<style scoped>\n",
       "    .dataframe tbody tr th:only-of-type {\n",
       "        vertical-align: middle;\n",
       "    }\n",
       "\n",
       "    .dataframe tbody tr th {\n",
       "        vertical-align: top;\n",
       "    }\n",
       "\n",
       "    .dataframe thead th {\n",
       "        text-align: right;\n",
       "    }\n",
       "</style>\n",
       "<table border=\"1\" class=\"dataframe\">\n",
       "  <thead>\n",
       "    <tr style=\"text-align: right;\">\n",
       "      <th></th>\n",
       "      <th>session_id</th>\n",
       "      <th>client_id</th>\n",
       "      <th>visit_date</th>\n",
       "      <th>visit_time</th>\n",
       "      <th>visit_number</th>\n",
       "      <th>utm_source</th>\n",
       "      <th>utm_medium</th>\n",
       "      <th>utm_campaign</th>\n",
       "      <th>utm_adcontent</th>\n",
       "      <th>utm_keyword</th>\n",
       "      <th>...</th>\n",
       "      <th>hit_date</th>\n",
       "      <th>hit_time</th>\n",
       "      <th>hit_number</th>\n",
       "      <th>hit_type</th>\n",
       "      <th>hit_referer</th>\n",
       "      <th>hit_page_path</th>\n",
       "      <th>event_category</th>\n",
       "      <th>event_action</th>\n",
       "      <th>event_label</th>\n",
       "      <th>event_value</th>\n",
       "    </tr>\n",
       "  </thead>\n",
       "  <tbody>\n",
       "  </tbody>\n",
       "</table>\n",
       "<p>0 rows × 28 columns</p>\n",
       "</div>"
      ],
      "text/plain": [
       "Empty DataFrame\n",
       "Columns: [session_id, client_id, visit_date, visit_time, visit_number, utm_source, utm_medium, utm_campaign, utm_adcontent, utm_keyword, device_category, device_os, device_brand, device_model, device_screen_resolution, device_browser, geo_country, geo_city, hit_date, hit_time, hit_number, hit_type, hit_referer, hit_page_path, event_category, event_action, event_label, event_value]\n",
       "Index: []\n",
       "\n",
       "[0 rows x 28 columns]"
      ]
     },
     "execution_count": 6,
     "metadata": {},
     "output_type": "execute_result"
    }
   ],
   "source": [
    "df_clean[df_clean.duplicated()]\n",
    "#Дубликатов нет"
   ]
  },
  {
   "cell_type": "markdown",
   "id": "90630cb4",
   "metadata": {},
   "source": [
    "### 3.2 Проверка данных на пропуски"
   ]
  },
  {
   "cell_type": "code",
   "execution_count": 7,
   "id": "dfce75ed",
   "metadata": {},
   "outputs": [
    {
     "name": "stdout",
     "output_type": "stream",
     "text": [
      "Информация о выборке:\n",
      " \n"
     ]
    },
    {
     "name": "stderr",
     "output_type": "stream",
     "text": [
      "C:\\Users\\Denis\\AppData\\Local\\Temp\\ipykernel_10248\\928169365.py:2: FutureWarning: null_counts is deprecated. Use show_counts instead\n",
      "  df_clean.info(null_counts=True)\n"
     ]
    },
    {
     "name": "stdout",
     "output_type": "stream",
     "text": [
      "<class 'pandas.core.frame.DataFrame'>\n",
      "Int64Index: 15685219 entries, 0 to 15685218\n",
      "Data columns (total 28 columns):\n",
      " #   Column                    Non-Null Count     Dtype  \n",
      "---  ------                    --------------     -----  \n",
      " 0   session_id                15685219 non-null  object \n",
      " 1   client_id                 15685219 non-null  object \n",
      " 2   visit_date                15685219 non-null  object \n",
      " 3   visit_time                15685219 non-null  object \n",
      " 4   visit_number              15685219 non-null  int64  \n",
      " 5   utm_source                15684519 non-null  object \n",
      " 6   utm_medium                15685219 non-null  object \n",
      " 7   utm_campaign              13486346 non-null  object \n",
      " 8   utm_adcontent             12852801 non-null  object \n",
      " 9   utm_keyword               6480392 non-null   object \n",
      " 10  device_category           15685219 non-null  object \n",
      " 11  device_os                 6526837 non-null   object \n",
      " 12  device_brand              11739344 non-null  object \n",
      " 13  device_model              122287 non-null    object \n",
      " 14  device_screen_resolution  15685219 non-null  object \n",
      " 15  device_browser            15685219 non-null  object \n",
      " 16  geo_country               15685219 non-null  object \n",
      " 17  geo_city                  15685219 non-null  object \n",
      " 18  hit_date                  15685219 non-null  object \n",
      " 19  hit_time                  6525016 non-null   float64\n",
      " 20  hit_number                15685219 non-null  int64  \n",
      " 21  hit_type                  15685219 non-null  object \n",
      " 22  hit_referer               9449721 non-null   object \n",
      " 23  hit_page_path             15685219 non-null  object \n",
      " 24  event_category            15685219 non-null  object \n",
      " 25  event_action              15685219 non-null  object \n",
      " 26  event_label               11957537 non-null  object \n",
      " 27  event_value               0 non-null         float64\n",
      "dtypes: float64(2), int64(2), object(24)\n",
      "memory usage: 3.4+ GB\n"
     ]
    }
   ],
   "source": [
    "print(\"Информация о выборке:\\n \")\n",
    "df_clean.info(null_counts=True)"
   ]
  },
  {
   "cell_type": "code",
   "execution_count": 8,
   "id": "43b01d1f",
   "metadata": {},
   "outputs": [
    {
     "name": "stdout",
     "output_type": "stream",
     "text": [
      "Процент пропущенных значений:\n",
      " \n"
     ]
    },
    {
     "data": {
      "text/plain": [
       "session_id                    0.000000\n",
       "hit_page_path                 0.000000\n",
       "hit_type                      0.000000\n",
       "hit_number                    0.000000\n",
       "hit_date                      0.000000\n",
       "geo_city                      0.000000\n",
       "geo_country                   0.000000\n",
       "device_browser                0.000000\n",
       "device_screen_resolution      0.000000\n",
       "event_category                0.000000\n",
       "event_action                  0.000000\n",
       "utm_medium                    0.000000\n",
       "visit_number                  0.000000\n",
       "visit_time                    0.000000\n",
       "visit_date                    0.000000\n",
       "client_id                     0.000000\n",
       "device_category               0.000000\n",
       "utm_source                    0.004463\n",
       "utm_campaign                 14.018759\n",
       "utm_adcontent                18.057880\n",
       "event_label                  23.765572\n",
       "device_brand                 25.156646\n",
       "hit_referer                  39.753975\n",
       "device_os                    58.388614\n",
       "hit_time                     58.400224\n",
       "utm_keyword                  58.684721\n",
       "device_model                 99.220368\n",
       "event_value                 100.000000\n",
       "dtype: float64"
      ]
     },
     "execution_count": 8,
     "metadata": {},
     "output_type": "execute_result"
    }
   ],
   "source": [
    "missing_values = ((df_clean.isna().sum() / len(df_clean)) * 100).sort_values()\n",
    "print(\"Процент пропущенных значений:\\n \")\n",
    "missing_values"
   ]
  },
  {
   "cell_type": "code",
   "execution_count": 9,
   "id": "a1a43643",
   "metadata": {},
   "outputs": [],
   "source": [
    "df_clean = df_clean.drop([\"visit_date\", \"visit_time\", \"device_model\", \n",
    "                         \"hit_date\", \"hit_time\", \"event_category\", \n",
    "                         \"event_label\", \"event_value\", \"device_screen_resolution\",\n",
    "                         \"device_os\", \"visit_number\", \"hit_type\",\n",
    "                         \"utm_adcontent\",\"utm_keyword\", \"client_id\"], axis=1)\n",
    "\n",
    "#Удаление неинформативных колонок"
   ]
  },
  {
   "cell_type": "code",
   "execution_count": 10,
   "id": "f4e03dfb",
   "metadata": {},
   "outputs": [],
   "source": [
    "df_clean = df_clean[df_clean[\"utm_source\"].notna()]\n",
    "#Удаление пустых строчек в колонках \"utm_source\""
   ]
  },
  {
   "cell_type": "code",
   "execution_count": 11,
   "id": "1e353563",
   "metadata": {},
   "outputs": [],
   "source": [
    "df_clean.hit_referer = df_clean.hit_referer.fillna(df_clean.hit_referer.mode().tolist()[0])\n",
    "df_clean.utm_campaign = df_clean.utm_campaign.fillna(df_clean.utm_campaign.mode().tolist()[0])\n",
    "#Замена пустых строк в колонках \"hit_referer\", \"utm_campaign\" наиболее популярными значениями."
   ]
  },
  {
   "cell_type": "code",
   "execution_count": 12,
   "id": "cae6a845",
   "metadata": {},
   "outputs": [],
   "source": [
    "df_clean.device_brand = df_clean.device_brand.fillna(\"other\")\n",
    "#Замена пустых строк в колонке \"device_brand\" значением \"Other\"."
   ]
  },
  {
   "cell_type": "code",
   "execution_count": 13,
   "id": "7595dda6",
   "metadata": {},
   "outputs": [
    {
     "name": "stdout",
     "output_type": "stream",
     "text": [
      "Процент пропущенных значений:\n",
      " \n"
     ]
    },
    {
     "data": {
      "text/plain": [
       "session_id         0.0\n",
       "utm_source         0.0\n",
       "utm_medium         0.0\n",
       "utm_campaign       0.0\n",
       "device_category    0.0\n",
       "device_brand       0.0\n",
       "device_browser     0.0\n",
       "geo_country        0.0\n",
       "geo_city           0.0\n",
       "hit_number         0.0\n",
       "hit_referer        0.0\n",
       "hit_page_path      0.0\n",
       "event_action       0.0\n",
       "dtype: float64"
      ]
     },
     "execution_count": 13,
     "metadata": {},
     "output_type": "execute_result"
    }
   ],
   "source": [
    "missing_values = ((df_clean.isna().sum() / len(df_clean)) * 100).sort_values()\n",
    "print(\"Процент пропущенных значений:\\n \")\n",
    "missing_values"
   ]
  },
  {
   "cell_type": "markdown",
   "id": "5b1aa911",
   "metadata": {},
   "source": [
    "### 3.3 Формирование новых прзнаков"
   ]
  },
  {
   "cell_type": "code",
   "execution_count": 14,
   "id": "fb7c9395",
   "metadata": {},
   "outputs": [],
   "source": [
    "#Переназначение индексов\n",
    "df_clean.reset_index(drop= True , inplace= True )\n",
    "#df_clean.head()"
   ]
  },
  {
   "cell_type": "code",
   "execution_count": 15,
   "id": "d1529aa3",
   "metadata": {},
   "outputs": [],
   "source": [
    "#Упрощение названий браузеров до 1 слова\n",
    "df_clean.device_browser = df_clean.device_browser.apply(lambda x: x.lower().split(' ')[0])"
   ]
  },
  {
   "cell_type": "code",
   "execution_count": 16,
   "id": "c8df1d3c",
   "metadata": {},
   "outputs": [],
   "source": [
    "#Пропишем все навания городов с маленькой буквы\n",
    "df_clean.geo_city = df_clean.geo_city.apply(lambda x: x.lower())"
   ]
  },
  {
   "cell_type": "code",
   "execution_count": 17,
   "id": "412d9f41",
   "metadata": {},
   "outputs": [
    {
     "name": "stderr",
     "output_type": "stream",
     "text": [
      "C:\\Users\\Denis\\AppData\\Local\\Temp\\ipykernel_10248\\2531878530.py:2: FutureWarning: The default dtype for empty Series will be 'object' instead of 'float64' in a future version. Specify a dtype explicitly to silence this warning.\n",
      "  df_clean[\"target_city\"] = pd.Series()\n",
      "  0%|          | 0/15684519 [00:00<?, ?it/s]C:\\Users\\Denis\\AppData\\Local\\Temp\\ipykernel_10248\\2531878530.py:7: SettingWithCopyWarning: \n",
      "A value is trying to be set on a copy of a slice from a DataFrame\n",
      "\n",
      "See the caveats in the documentation: https://pandas.pydata.org/pandas-docs/stable/user_guide/indexing.html#returning-a-view-versus-a-copy\n",
      "  df_clean[\"target_city\"][i] = \"spb\"\n",
      "100%|██████████| 15684519/15684519 [03:17<00:00, 79588.48it/s]\n"
     ]
    },
    {
     "name": "stdout",
     "output_type": "stream",
     "text": [
      "moscow    6794589\n",
      "spb       6524444\n",
      "other     2365486\n",
      "Name: target_city, dtype: int64\n"
     ]
    }
   ],
   "source": [
    "#Делим приход пользователей на тех что из соц.сетей и остальные\n",
    "df_clean[\"target_city\"] = pd.Series()\n",
    "for i in tqdm(range(len(df_clean.geo_city))):\n",
    "    if df_clean.geo_city[i] == \"moscow\": \n",
    "        df_clean[\"target_city\"][i] = \"moscow\"\n",
    "    elif df_clean.geo_city[i] != \"saint petersburg\":\n",
    "        df_clean[\"target_city\"][i] = \"spb\"\n",
    "    else:\n",
    "        df_clean[\"target_city\"][i] = \"other\"\n",
    "                      \n",
    "print(df_clean.target_city.value_counts()) "
   ]
  },
  {
   "cell_type": "code",
   "execution_count": 18,
   "id": "1b126f01",
   "metadata": {
    "scrolled": false
   },
   "outputs": [
    {
     "name": "stderr",
     "output_type": "stream",
     "text": [
      "C:\\Users\\Denis\\AppData\\Local\\Temp\\ipykernel_10248\\1822752888.py:2: FutureWarning: The default dtype for empty Series will be 'object' instead of 'float64' in a future version. Specify a dtype explicitly to silence this warning.\n",
      "  df_clean[\"new_hit_page_path\"] = pd.Series()\n",
      "  0%|          | 0/15684519 [00:00<?, ?it/s]C:\\Users\\Denis\\AppData\\Local\\Temp\\ipykernel_10248\\1822752888.py:4: SettingWithCopyWarning: \n",
      "A value is trying to be set on a copy of a slice from a DataFrame\n",
      "\n",
      "See the caveats in the documentation: https://pandas.pydata.org/pandas-docs/stable/user_guide/indexing.html#returning-a-view-versus-a-copy\n",
      "  df_clean[\"new_hit_page_path\"][i] = df_clean.hit_page_path[i] + \"none/none/none/none\"\n",
      "100%|██████████| 15684519/15684519 [02:39<00:00, 98233.09it/s] \n"
     ]
    },
    {
     "name": "stdout",
     "output_type": "stream",
     "text": [
      "(15684519, 15)\n",
      "none             12185306\n",
      "skoda              742249\n",
      "mercedes-benz      471133\n",
      "volkswagen         414374\n",
      "lada-vaz           402182\n",
      "                   ...   \n",
      "insignia                1\n",
      "bszfi+                  1\n",
      "cs75                    1\n",
      "teramont                1\n",
      "2106                    1\n",
      "Name: car_brand, Length: 623, dtype: int64\n"
     ]
    }
   ],
   "source": [
    "#Добавим в значение ссылки приписку \"none/none/none/none\" для выделения марок и моделей автомобиля.\n",
    "df_clean[\"new_hit_page_path\"] = pd.Series()\n",
    "for i in tqdm(range(len(df_clean.hit_page_path))):\n",
    "    df_clean[\"new_hit_page_path\"][i] = df_clean.hit_page_path[i] + \"none/none/none/none\" \n",
    "    \n",
    "#Добавление нового признака \"car_brand\"\n",
    "df_clean[\"car_brand\"] = df_clean.new_hit_page_path.apply(lambda x: x.lower().split('/')[3].split('?')[0])\n",
    "#Добавление нового признака \"car_model\"\n",
    "df_clean[\"car_model\"] = df_clean.new_hit_page_path.apply(lambda x: x.lower().split('/')[4].split('?')[0])\n",
    "\n",
    "#Удалим колонки с ссылками, они более не нужны.\n",
    "df_clean = df_clean.drop([\"hit_page_path\", \"new_hit_page_path\"], axis=1)\n",
    "print(df_clean.shape)\n",
    "print(df_clean.car_brand.value_counts())"
   ]
  },
  {
   "cell_type": "code",
   "execution_count": 2,
   "id": "757713cf",
   "metadata": {},
   "outputs": [],
   "source": [
    "#Зададим переменные \n",
    "\n",
    "target = ['sub_car_claim_click', 'sub_car_claim_submit_click',\n",
    "'sub_open_dialog_click', 'sub_custom_question_submit_click',\n",
    "'sub_call_number_click', 'sub_callback_submit_click', 'sub_submit_success',\n",
    "'sub_car_request_submit_click']\n",
    "\n",
    "social_network = ['QxAxdyPLuQMEcrdZWdWb', 'MvfHsxITijuriZxsqZqt', 'ISrKoXQCxqqYvAZICvjs',\n",
    "                  'IZEXUFLARCUMynmHNBGo', 'PlbkrSYoHuZBWfYjYnfw','gVRrcxiDQubJiljoTbGm']\n",
    "\n",
    "organic = ['organic','referral', '(none)']"
   ]
  },
  {
   "cell_type": "code",
   "execution_count": 20,
   "id": "1739d38d",
   "metadata": {},
   "outputs": [
    {
     "name": "stderr",
     "output_type": "stream",
     "text": [
      "C:\\Users\\Denis\\AppData\\Local\\Temp\\ipykernel_10248\\3347580193.py:2: FutureWarning: The default dtype for empty Series will be 'object' instead of 'float64' in a future version. Specify a dtype explicitly to silence this warning.\n",
      "  df_clean[\"coming\"] = pd.Series()\n",
      "  0%|          | 0/15684519 [00:00<?, ?it/s]C:\\Users\\Denis\\AppData\\Local\\Temp\\ipykernel_10248\\3347580193.py:7: SettingWithCopyWarning: \n",
      "A value is trying to be set on a copy of a slice from a DataFrame\n",
      "\n",
      "See the caveats in the documentation: https://pandas.pydata.org/pandas-docs/stable/user_guide/indexing.html#returning-a-view-versus-a-copy\n",
      "  df_clean[\"coming\"][i] = \"other\"\n",
      "100%|██████████| 15684519/15684519 [02:32<00:00, 102899.08it/s]"
     ]
    },
    {
     "name": "stdout",
     "output_type": "stream",
     "text": [
      "other     14481993\n",
      "social     1202526\n",
      "Name: coming, dtype: int64\n"
     ]
    },
    {
     "name": "stderr",
     "output_type": "stream",
     "text": [
      "\n"
     ]
    }
   ],
   "source": [
    "#Делим приход пользователей на тех что из соц.сетей и остальные\n",
    "df_clean[\"coming\"] = pd.Series()\n",
    "for i in tqdm(range(len(df_clean.utm_source))):\n",
    "    if df_clean.utm_source[i] in social_network:\n",
    "        df_clean[\"coming\"][i] = \"social\"\n",
    "    else:\n",
    "        df_clean[\"coming\"][i] = \"other\" \n",
    "              \n",
    "print(df_clean.coming.value_counts())  "
   ]
  },
  {
   "cell_type": "code",
   "execution_count": 21,
   "id": "65d8c973",
   "metadata": {},
   "outputs": [
    {
     "name": "stderr",
     "output_type": "stream",
     "text": [
      "C:\\Users\\Denis\\AppData\\Local\\Temp\\ipykernel_10248\\451020598.py:2: FutureWarning: The default dtype for empty Series will be 'object' instead of 'float64' in a future version. Specify a dtype explicitly to silence this warning.\n",
      "  df_clean[\"traffic\"] = pd.Series()\n",
      "  0%|          | 0/15684519 [00:00<?, ?it/s]C:\\Users\\Denis\\AppData\\Local\\Temp\\ipykernel_10248\\451020598.py:7: SettingWithCopyWarning: \n",
      "A value is trying to be set on a copy of a slice from a DataFrame\n",
      "\n",
      "See the caveats in the documentation: https://pandas.pydata.org/pandas-docs/stable/user_guide/indexing.html#returning-a-view-versus-a-copy\n",
      "  df_clean[\"traffic\"][i] = \"paid\"\n",
      "100%|██████████| 15684519/15684519 [02:33<00:00, 102364.85it/s]\n"
     ]
    },
    {
     "name": "stdout",
     "output_type": "stream",
     "text": [
      "paid       9866952\n",
      "organic    5817567\n",
      "Name: traffic, dtype: int64\n"
     ]
    }
   ],
   "source": [
    "#Делим трафик на две категории - органический и платный\n",
    "df_clean[\"traffic\"] = pd.Series()\n",
    "for i in tqdm(range(len(df_clean.utm_medium))):\n",
    "    if df_clean.utm_medium[i] in organic:\n",
    "        df_clean[\"traffic\"][i] = \"organic\"\n",
    "    else:\n",
    "        df_clean[\"traffic\"][i] = \"paid\"\n",
    "        \n",
    "print(df_clean.traffic.value_counts())  "
   ]
  },
  {
   "cell_type": "code",
   "execution_count": 22,
   "id": "197b3edc",
   "metadata": {},
   "outputs": [
    {
     "name": "stderr",
     "output_type": "stream",
     "text": [
      "C:\\Users\\Denis\\AppData\\Local\\Temp\\ipykernel_10248\\55128251.py:2: FutureWarning: The default dtype for empty Series will be 'object' instead of 'float64' in a future version. Specify a dtype explicitly to silence this warning.\n",
      "  df_clean[\"target\"] = pd.Series()\n",
      "  0%|          | 0/15684519 [00:00<?, ?it/s]C:\\Users\\Denis\\AppData\\Local\\Temp\\ipykernel_10248\\55128251.py:7: SettingWithCopyWarning: \n",
      "A value is trying to be set on a copy of a slice from a DataFrame\n",
      "\n",
      "See the caveats in the documentation: https://pandas.pydata.org/pandas-docs/stable/user_guide/indexing.html#returning-a-view-versus-a-copy\n",
      "  df_clean[\"target\"][i] = \"0\"\n",
      "100%|██████████| 15684519/15684519 [02:36<00:00, 100263.92it/s]\n"
     ]
    },
    {
     "name": "stdout",
     "output_type": "stream",
     "text": [
      "0    15581687\n",
      "1      102832\n",
      "Name: target, dtype: int64\n"
     ]
    }
   ],
   "source": [
    "#Делим действие на целевое(1) и нецелевое(0)\n",
    "df_clean[\"target\"] = pd.Series()\n",
    "for i in tqdm(range(len(df_clean.event_action))):\n",
    "    if df_clean.event_action[i] in target:\n",
    "        df_clean[\"target\"][i] = \"1\"\n",
    "    else:\n",
    "        df_clean[\"target\"][i] = \"0\"\n",
    "\n",
    "#Удалим колонку \"event_action\", она более не нужна.\n",
    "df_clean = df_clean.drop([\"event_action\"], axis=1)        \n",
    "\n",
    "print(df_clean.target.value_counts())  "
   ]
  },
  {
   "cell_type": "code",
   "execution_count": null,
   "id": "a48dcdd8",
   "metadata": {},
   "outputs": [],
   "source": []
  },
  {
   "cell_type": "code",
   "execution_count": null,
   "id": "cea3037f",
   "metadata": {},
   "outputs": [],
   "source": [
    " "
   ]
  },
  {
   "cell_type": "code",
   "execution_count": 23,
   "id": "c576fce0",
   "metadata": {
    "scrolled": true
   },
   "outputs": [
    {
     "name": "stdout",
     "output_type": "stream",
     "text": [
      "(15684519, 17)\n"
     ]
    },
    {
     "data": {
      "text/html": [
       "<div>\n",
       "<style scoped>\n",
       "    .dataframe tbody tr th:only-of-type {\n",
       "        vertical-align: middle;\n",
       "    }\n",
       "\n",
       "    .dataframe tbody tr th {\n",
       "        vertical-align: top;\n",
       "    }\n",
       "\n",
       "    .dataframe thead th {\n",
       "        text-align: right;\n",
       "    }\n",
       "</style>\n",
       "<table border=\"1\" class=\"dataframe\">\n",
       "  <thead>\n",
       "    <tr style=\"text-align: right;\">\n",
       "      <th></th>\n",
       "      <th>session_id</th>\n",
       "      <th>utm_source</th>\n",
       "      <th>utm_medium</th>\n",
       "      <th>utm_campaign</th>\n",
       "      <th>device_category</th>\n",
       "      <th>device_brand</th>\n",
       "      <th>device_browser</th>\n",
       "      <th>geo_country</th>\n",
       "      <th>geo_city</th>\n",
       "      <th>hit_number</th>\n",
       "      <th>hit_referer</th>\n",
       "      <th>target_city</th>\n",
       "      <th>car_brand</th>\n",
       "      <th>car_model</th>\n",
       "      <th>coming</th>\n",
       "      <th>traffic</th>\n",
       "      <th>target</th>\n",
       "    </tr>\n",
       "  </thead>\n",
       "  <tbody>\n",
       "    <tr>\n",
       "      <th>0</th>\n",
       "      <td>9055434745589932991.1637753792.1637753792</td>\n",
       "      <td>ZpYIoDJMcFzVoPFsHGJL</td>\n",
       "      <td>banner</td>\n",
       "      <td>LEoPHuyFvzoNfnzGgfcd</td>\n",
       "      <td>mobile</td>\n",
       "      <td>Huawei</td>\n",
       "      <td>chrome</td>\n",
       "      <td>Russia</td>\n",
       "      <td>zlatoust</td>\n",
       "      <td>3</td>\n",
       "      <td>HbolMJUevblAbkHClEQa</td>\n",
       "      <td>spb</td>\n",
       "      <td>none</td>\n",
       "      <td>none</td>\n",
       "      <td>other</td>\n",
       "      <td>paid</td>\n",
       "      <td>0</td>\n",
       "    </tr>\n",
       "    <tr>\n",
       "      <th>1</th>\n",
       "      <td>9055434745589932991.1637753792.1637753792</td>\n",
       "      <td>ZpYIoDJMcFzVoPFsHGJL</td>\n",
       "      <td>banner</td>\n",
       "      <td>LEoPHuyFvzoNfnzGgfcd</td>\n",
       "      <td>mobile</td>\n",
       "      <td>Huawei</td>\n",
       "      <td>chrome</td>\n",
       "      <td>Russia</td>\n",
       "      <td>zlatoust</td>\n",
       "      <td>4</td>\n",
       "      <td>HbolMJUevblAbkHClEQa</td>\n",
       "      <td>spb</td>\n",
       "      <td>none</td>\n",
       "      <td>none</td>\n",
       "      <td>other</td>\n",
       "      <td>paid</td>\n",
       "      <td>0</td>\n",
       "    </tr>\n",
       "    <tr>\n",
       "      <th>2</th>\n",
       "      <td>905544597018549464.1636867290.1636867290</td>\n",
       "      <td>MvfHsxITijuriZxsqZqt</td>\n",
       "      <td>cpm</td>\n",
       "      <td>FTjNLDyTrXaWYgZymFkV</td>\n",
       "      <td>mobile</td>\n",
       "      <td>Samsung</td>\n",
       "      <td>samsung</td>\n",
       "      <td>Russia</td>\n",
       "      <td>moscow</td>\n",
       "      <td>3</td>\n",
       "      <td>HbolMJUevblAbkHClEQa</td>\n",
       "      <td>moscow</td>\n",
       "      <td>none</td>\n",
       "      <td>none</td>\n",
       "      <td>social</td>\n",
       "      <td>paid</td>\n",
       "      <td>0</td>\n",
       "    </tr>\n",
       "    <tr>\n",
       "      <th>3</th>\n",
       "      <td>9055446045651783499.1640648526.1640648526</td>\n",
       "      <td>ZpYIoDJMcFzVoPFsHGJL</td>\n",
       "      <td>banner</td>\n",
       "      <td>LEoPHuyFvzoNfnzGgfcd</td>\n",
       "      <td>mobile</td>\n",
       "      <td>Huawei</td>\n",
       "      <td>chrome</td>\n",
       "      <td>Russia</td>\n",
       "      <td>krasnoyarsk</td>\n",
       "      <td>10</td>\n",
       "      <td>HbolMJUevblAbkHClEQa</td>\n",
       "      <td>spb</td>\n",
       "      <td>none</td>\n",
       "      <td>none</td>\n",
       "      <td>other</td>\n",
       "      <td>paid</td>\n",
       "      <td>0</td>\n",
       "    </tr>\n",
       "    <tr>\n",
       "      <th>4</th>\n",
       "      <td>9055446045651783499.1640648526.1640648526</td>\n",
       "      <td>ZpYIoDJMcFzVoPFsHGJL</td>\n",
       "      <td>banner</td>\n",
       "      <td>LEoPHuyFvzoNfnzGgfcd</td>\n",
       "      <td>mobile</td>\n",
       "      <td>Huawei</td>\n",
       "      <td>chrome</td>\n",
       "      <td>Russia</td>\n",
       "      <td>krasnoyarsk</td>\n",
       "      <td>13</td>\n",
       "      <td>HbolMJUevblAbkHClEQa</td>\n",
       "      <td>spb</td>\n",
       "      <td>none</td>\n",
       "      <td>none</td>\n",
       "      <td>other</td>\n",
       "      <td>paid</td>\n",
       "      <td>0</td>\n",
       "    </tr>\n",
       "  </tbody>\n",
       "</table>\n",
       "</div>"
      ],
      "text/plain": [
       "                                  session_id            utm_source utm_medium  \\\n",
       "0  9055434745589932991.1637753792.1637753792  ZpYIoDJMcFzVoPFsHGJL     banner   \n",
       "1  9055434745589932991.1637753792.1637753792  ZpYIoDJMcFzVoPFsHGJL     banner   \n",
       "2   905544597018549464.1636867290.1636867290  MvfHsxITijuriZxsqZqt        cpm   \n",
       "3  9055446045651783499.1640648526.1640648526  ZpYIoDJMcFzVoPFsHGJL     banner   \n",
       "4  9055446045651783499.1640648526.1640648526  ZpYIoDJMcFzVoPFsHGJL     banner   \n",
       "\n",
       "           utm_campaign device_category device_brand device_browser  \\\n",
       "0  LEoPHuyFvzoNfnzGgfcd          mobile       Huawei         chrome   \n",
       "1  LEoPHuyFvzoNfnzGgfcd          mobile       Huawei         chrome   \n",
       "2  FTjNLDyTrXaWYgZymFkV          mobile      Samsung        samsung   \n",
       "3  LEoPHuyFvzoNfnzGgfcd          mobile       Huawei         chrome   \n",
       "4  LEoPHuyFvzoNfnzGgfcd          mobile       Huawei         chrome   \n",
       "\n",
       "  geo_country     geo_city  hit_number           hit_referer target_city  \\\n",
       "0      Russia     zlatoust           3  HbolMJUevblAbkHClEQa         spb   \n",
       "1      Russia     zlatoust           4  HbolMJUevblAbkHClEQa         spb   \n",
       "2      Russia       moscow           3  HbolMJUevblAbkHClEQa      moscow   \n",
       "3      Russia  krasnoyarsk          10  HbolMJUevblAbkHClEQa         spb   \n",
       "4      Russia  krasnoyarsk          13  HbolMJUevblAbkHClEQa         spb   \n",
       "\n",
       "  car_brand car_model  coming traffic target  \n",
       "0      none      none   other    paid      0  \n",
       "1      none      none   other    paid      0  \n",
       "2      none      none  social    paid      0  \n",
       "3      none      none   other    paid      0  \n",
       "4      none      none   other    paid      0  "
      ]
     },
     "execution_count": 23,
     "metadata": {},
     "output_type": "execute_result"
    }
   ],
   "source": [
    "print(df_clean.shape)\n",
    "df_clean.head()"
   ]
  },
  {
   "cell_type": "markdown",
   "id": "fc4e0bd4",
   "metadata": {},
   "source": [
    "### 3.4 Приведение типов данных"
   ]
  },
  {
   "cell_type": "code",
   "execution_count": 24,
   "id": "d5088a83",
   "metadata": {},
   "outputs": [
    {
     "name": "stdout",
     "output_type": "stream",
     "text": [
      "<class 'pandas.core.frame.DataFrame'>\n",
      "RangeIndex: 15684519 entries, 0 to 15684518\n",
      "Data columns (total 17 columns):\n",
      " #   Column           Dtype \n",
      "---  ------           ----- \n",
      " 0   session_id       object\n",
      " 1   utm_source       object\n",
      " 2   utm_medium       object\n",
      " 3   utm_campaign     object\n",
      " 4   device_category  object\n",
      " 5   device_brand     object\n",
      " 6   device_browser   object\n",
      " 7   geo_country      object\n",
      " 8   geo_city         object\n",
      " 9   hit_number       int64 \n",
      " 10  hit_referer      object\n",
      " 11  target_city      object\n",
      " 12  car_brand        object\n",
      " 13  car_model        object\n",
      " 14  coming           object\n",
      " 15  traffic          object\n",
      " 16  target           object\n",
      "dtypes: int64(1), object(16)\n",
      "memory usage: 2.0+ GB\n"
     ]
    }
   ],
   "source": [
    "df_clean.info()"
   ]
  },
  {
   "cell_type": "code",
   "execution_count": 25,
   "id": "24fa6f3d",
   "metadata": {},
   "outputs": [],
   "source": [
    "df_clean.device_category = df_clean.device_category.astype('category')\n",
    "df_clean.target = df_clean.target.astype('category')\n",
    "df_clean.traffic = df_clean.traffic.astype('category')\n",
    "df_clean.coming = df_clean.coming.astype('category')"
   ]
  },
  {
   "cell_type": "code",
   "execution_count": 26,
   "id": "0f4584e8",
   "metadata": {},
   "outputs": [
    {
     "name": "stdout",
     "output_type": "stream",
     "text": [
      "<class 'pandas.core.frame.DataFrame'>\n",
      "RangeIndex: 15684519 entries, 0 to 15684518\n",
      "Data columns (total 17 columns):\n",
      " #   Column           Dtype   \n",
      "---  ------           -----   \n",
      " 0   session_id       object  \n",
      " 1   utm_source       object  \n",
      " 2   utm_medium       object  \n",
      " 3   utm_campaign     object  \n",
      " 4   device_category  category\n",
      " 5   device_brand     object  \n",
      " 6   device_browser   object  \n",
      " 7   geo_country      object  \n",
      " 8   geo_city         object  \n",
      " 9   hit_number       int64   \n",
      " 10  hit_referer      object  \n",
      " 11  target_city      object  \n",
      " 12  car_brand        object  \n",
      " 13  car_model        object  \n",
      " 14  coming           category\n",
      " 15  traffic          category\n",
      " 16  target           category\n",
      "dtypes: category(4), int64(1), object(12)\n",
      "memory usage: 1.6+ GB\n"
     ]
    }
   ],
   "source": [
    "df_clean.info()"
   ]
  },
  {
   "cell_type": "code",
   "execution_count": null,
   "id": "fe2693ad",
   "metadata": {},
   "outputs": [],
   "source": []
  },
  {
   "cell_type": "code",
   "execution_count": 27,
   "id": "ce49999b",
   "metadata": {},
   "outputs": [],
   "source": [
    "#Сохраняем полученный Дф.\n",
    "df_clean.to_csv('./data/df_clean.csv', index=False)"
   ]
  },
  {
   "cell_type": "code",
   "execution_count": null,
   "id": "cbe7bd52",
   "metadata": {},
   "outputs": [],
   "source": []
  },
  {
   "cell_type": "markdown",
   "id": "4e7ac97a",
   "metadata": {},
   "source": [
    "# 4. Аналитика"
   ]
  },
  {
   "cell_type": "markdown",
   "id": "1443b80a",
   "metadata": {},
   "source": [
    "### 4.1 Проверка гипотез"
   ]
  },
  {
   "cell_type": "code",
   "execution_count": 3,
   "id": "37ed9886",
   "metadata": {
    "scrolled": false
   },
   "outputs": [
    {
     "name": "stdout",
     "output_type": "stream",
     "text": [
      "(15684519, 17)\n"
     ]
    },
    {
     "data": {
      "text/html": [
       "<div>\n",
       "<style scoped>\n",
       "    .dataframe tbody tr th:only-of-type {\n",
       "        vertical-align: middle;\n",
       "    }\n",
       "\n",
       "    .dataframe tbody tr th {\n",
       "        vertical-align: top;\n",
       "    }\n",
       "\n",
       "    .dataframe thead th {\n",
       "        text-align: right;\n",
       "    }\n",
       "</style>\n",
       "<table border=\"1\" class=\"dataframe\">\n",
       "  <thead>\n",
       "    <tr style=\"text-align: right;\">\n",
       "      <th></th>\n",
       "      <th>session_id</th>\n",
       "      <th>utm_source</th>\n",
       "      <th>utm_medium</th>\n",
       "      <th>utm_campaign</th>\n",
       "      <th>device_category</th>\n",
       "      <th>device_brand</th>\n",
       "      <th>device_browser</th>\n",
       "      <th>geo_country</th>\n",
       "      <th>geo_city</th>\n",
       "      <th>hit_number</th>\n",
       "      <th>hit_referer</th>\n",
       "      <th>target_city</th>\n",
       "      <th>car_brand</th>\n",
       "      <th>car_model</th>\n",
       "      <th>coming</th>\n",
       "      <th>traffic</th>\n",
       "      <th>target</th>\n",
       "    </tr>\n",
       "  </thead>\n",
       "  <tbody>\n",
       "    <tr>\n",
       "      <th>0</th>\n",
       "      <td>9055434745589932991.1637753792.1637753792</td>\n",
       "      <td>ZpYIoDJMcFzVoPFsHGJL</td>\n",
       "      <td>banner</td>\n",
       "      <td>LEoPHuyFvzoNfnzGgfcd</td>\n",
       "      <td>mobile</td>\n",
       "      <td>Huawei</td>\n",
       "      <td>chrome</td>\n",
       "      <td>Russia</td>\n",
       "      <td>zlatoust</td>\n",
       "      <td>3</td>\n",
       "      <td>HbolMJUevblAbkHClEQa</td>\n",
       "      <td>spb</td>\n",
       "      <td>none</td>\n",
       "      <td>none</td>\n",
       "      <td>other</td>\n",
       "      <td>paid</td>\n",
       "      <td>0</td>\n",
       "    </tr>\n",
       "    <tr>\n",
       "      <th>1</th>\n",
       "      <td>9055434745589932991.1637753792.1637753792</td>\n",
       "      <td>ZpYIoDJMcFzVoPFsHGJL</td>\n",
       "      <td>banner</td>\n",
       "      <td>LEoPHuyFvzoNfnzGgfcd</td>\n",
       "      <td>mobile</td>\n",
       "      <td>Huawei</td>\n",
       "      <td>chrome</td>\n",
       "      <td>Russia</td>\n",
       "      <td>zlatoust</td>\n",
       "      <td>4</td>\n",
       "      <td>HbolMJUevblAbkHClEQa</td>\n",
       "      <td>spb</td>\n",
       "      <td>none</td>\n",
       "      <td>none</td>\n",
       "      <td>other</td>\n",
       "      <td>paid</td>\n",
       "      <td>0</td>\n",
       "    </tr>\n",
       "    <tr>\n",
       "      <th>2</th>\n",
       "      <td>905544597018549464.1636867290.1636867290</td>\n",
       "      <td>MvfHsxITijuriZxsqZqt</td>\n",
       "      <td>cpm</td>\n",
       "      <td>FTjNLDyTrXaWYgZymFkV</td>\n",
       "      <td>mobile</td>\n",
       "      <td>Samsung</td>\n",
       "      <td>samsung</td>\n",
       "      <td>Russia</td>\n",
       "      <td>moscow</td>\n",
       "      <td>3</td>\n",
       "      <td>HbolMJUevblAbkHClEQa</td>\n",
       "      <td>moscow</td>\n",
       "      <td>none</td>\n",
       "      <td>none</td>\n",
       "      <td>social</td>\n",
       "      <td>paid</td>\n",
       "      <td>0</td>\n",
       "    </tr>\n",
       "    <tr>\n",
       "      <th>3</th>\n",
       "      <td>9055446045651783499.1640648526.1640648526</td>\n",
       "      <td>ZpYIoDJMcFzVoPFsHGJL</td>\n",
       "      <td>banner</td>\n",
       "      <td>LEoPHuyFvzoNfnzGgfcd</td>\n",
       "      <td>mobile</td>\n",
       "      <td>Huawei</td>\n",
       "      <td>chrome</td>\n",
       "      <td>Russia</td>\n",
       "      <td>krasnoyarsk</td>\n",
       "      <td>10</td>\n",
       "      <td>HbolMJUevblAbkHClEQa</td>\n",
       "      <td>spb</td>\n",
       "      <td>none</td>\n",
       "      <td>none</td>\n",
       "      <td>other</td>\n",
       "      <td>paid</td>\n",
       "      <td>0</td>\n",
       "    </tr>\n",
       "    <tr>\n",
       "      <th>4</th>\n",
       "      <td>9055446045651783499.1640648526.1640648526</td>\n",
       "      <td>ZpYIoDJMcFzVoPFsHGJL</td>\n",
       "      <td>banner</td>\n",
       "      <td>LEoPHuyFvzoNfnzGgfcd</td>\n",
       "      <td>mobile</td>\n",
       "      <td>Huawei</td>\n",
       "      <td>chrome</td>\n",
       "      <td>Russia</td>\n",
       "      <td>krasnoyarsk</td>\n",
       "      <td>13</td>\n",
       "      <td>HbolMJUevblAbkHClEQa</td>\n",
       "      <td>spb</td>\n",
       "      <td>none</td>\n",
       "      <td>none</td>\n",
       "      <td>other</td>\n",
       "      <td>paid</td>\n",
       "      <td>0</td>\n",
       "    </tr>\n",
       "  </tbody>\n",
       "</table>\n",
       "</div>"
      ],
      "text/plain": [
       "                                  session_id            utm_source utm_medium  \\\n",
       "0  9055434745589932991.1637753792.1637753792  ZpYIoDJMcFzVoPFsHGJL     banner   \n",
       "1  9055434745589932991.1637753792.1637753792  ZpYIoDJMcFzVoPFsHGJL     banner   \n",
       "2   905544597018549464.1636867290.1636867290  MvfHsxITijuriZxsqZqt        cpm   \n",
       "3  9055446045651783499.1640648526.1640648526  ZpYIoDJMcFzVoPFsHGJL     banner   \n",
       "4  9055446045651783499.1640648526.1640648526  ZpYIoDJMcFzVoPFsHGJL     banner   \n",
       "\n",
       "           utm_campaign device_category device_brand device_browser  \\\n",
       "0  LEoPHuyFvzoNfnzGgfcd          mobile       Huawei         chrome   \n",
       "1  LEoPHuyFvzoNfnzGgfcd          mobile       Huawei         chrome   \n",
       "2  FTjNLDyTrXaWYgZymFkV          mobile      Samsung        samsung   \n",
       "3  LEoPHuyFvzoNfnzGgfcd          mobile       Huawei         chrome   \n",
       "4  LEoPHuyFvzoNfnzGgfcd          mobile       Huawei         chrome   \n",
       "\n",
       "  geo_country     geo_city  hit_number           hit_referer target_city  \\\n",
       "0      Russia     zlatoust           3  HbolMJUevblAbkHClEQa         spb   \n",
       "1      Russia     zlatoust           4  HbolMJUevblAbkHClEQa         spb   \n",
       "2      Russia       moscow           3  HbolMJUevblAbkHClEQa      moscow   \n",
       "3      Russia  krasnoyarsk          10  HbolMJUevblAbkHClEQa         spb   \n",
       "4      Russia  krasnoyarsk          13  HbolMJUevblAbkHClEQa         spb   \n",
       "\n",
       "  car_brand car_model  coming traffic  target  \n",
       "0      none      none   other    paid       0  \n",
       "1      none      none   other    paid       0  \n",
       "2      none      none  social    paid       0  \n",
       "3      none      none   other    paid       0  \n",
       "4      none      none   other    paid       0  "
      ]
     },
     "execution_count": 3,
     "metadata": {},
     "output_type": "execute_result"
    }
   ],
   "source": [
    "df = pd.read_csv('data/df_clean.csv')\n",
    "print(df.shape)\n",
    "df.head()"
   ]
  },
  {
   "cell_type": "code",
   "execution_count": 3,
   "id": "6cf4f8af",
   "metadata": {
    "scrolled": true
   },
   "outputs": [
    {
     "name": "stdout",
     "output_type": "stream",
     "text": [
      "Колличество событий органического трафика: 5817567\n",
      "Количество событий органического трафика,в которых было выполнено  целевое действие: 41672\n",
      "CR органического трафика = 0.72%\n"
     ]
    }
   ],
   "source": [
    "#Расчет CR для органического трафика\n",
    "O = df.traffic.value_counts()[\"organic\"]\n",
    "T = sum((df.traffic == \"organic\" ) & (df.target == 1 ))\n",
    "CRo = T/O*100\n",
    "\n",
    "print(f\"Колличество событий органического трафика: {O}\")\n",
    "print(f\"Количество событий органического трафика,в которых было выполнено  целевое действие: {T}\")\n",
    "print(f\"CR органического трафика = {round(CRo, 2)}%\")"
   ]
  },
  {
   "cell_type": "code",
   "execution_count": 4,
   "id": "b104335f",
   "metadata": {},
   "outputs": [
    {
     "name": "stdout",
     "output_type": "stream",
     "text": [
      "Колличество событий платного трафика: 9866952\n",
      "Количество событий платного трафика,в которых было выполнено  целевое действие: 61160\n",
      "CR платного трафика = 0.62%\n"
     ]
    }
   ],
   "source": [
    "#Расчет CR для платного трафика\n",
    "P = df.traffic.value_counts()[\"paid\"]\n",
    "T = sum((df.traffic == \"paid\" ) & (df.target == 1 ))\n",
    "CRp = T/P*100\n",
    "\n",
    "print(f\"Колличество событий платного трафика: {P}\")\n",
    "print(f\"Количество событий платного трафика,в которых было выполнено  целевое действие: {T}\")\n",
    "print(f\"CR платного трафика = {round(CRp, 2)}%\")"
   ]
  },
  {
   "cell_type": "markdown",
   "id": "7a1281a5",
   "metadata": {},
   "source": [
    "#### Органический трафик с точки зрения CR на 0.1% эффективнее платного трафика"
   ]
  },
  {
   "cell_type": "code",
   "execution_count": 5,
   "id": "290cdf98",
   "metadata": {},
   "outputs": [
    {
     "name": "stdout",
     "output_type": "stream",
     "text": [
      "Колличество событий органического трафика: 11739799\n",
      "Количество событий органического трафика,в которых было выполнено  целевое действие: 77593\n",
      "CR органического трафика = 0.66%\n"
     ]
    }
   ],
   "source": [
    "#Расчет CR для трафика с мобильных устройств (включая планшеты)\n",
    "M = df.device_category.value_counts()[\"mobile\"] + df.device_category.value_counts()[\"tablet\"]\n",
    "Tm = sum((df.device_category == \"mobile\") & (df.target == 1))\n",
    "Tt = sum((df.device_category == \"tablet\") & (df.target == 1))\n",
    "T = Tm + Tt\n",
    "CRm = T/M*100\n",
    "\n",
    "print(f\"Колличество событий органического трафика: {M}\")\n",
    "print(f\"Количество событий органического трафика,в которых было выполнено  целевое действие: {T}\")\n",
    "print(f\"CR органического трафика = {round(CRm, 2)}%\")"
   ]
  },
  {
   "cell_type": "code",
   "execution_count": 6,
   "id": "01c10178",
   "metadata": {},
   "outputs": [
    {
     "name": "stdout",
     "output_type": "stream",
     "text": [
      "Колличество событий органического трафика: 3944720\n",
      "Количество событий органического трафика,в которых было выполнено  целевое действие: 25239\n",
      "CR органического трафика = 0.64%\n"
     ]
    }
   ],
   "source": [
    "#Расчет CR для трафика с десктоптных устройств\n",
    "D = df.device_category.value_counts()[\"desktop\"]\n",
    "T = sum((df.device_category == \"desktop\") & (df.target == 1))\n",
    "CRd = T/D*100\n",
    "\n",
    "print(f\"Колличество событий органического трафика: {D}\")\n",
    "print(f\"Количество событий органического трафика,в которых было выполнено  целевое действие: {T}\")\n",
    "print(f\"CR органического трафика = {round(CRd, 2)}%\")"
   ]
  },
  {
   "cell_type": "markdown",
   "id": "0e47cbea",
   "metadata": {},
   "source": [
    "#### Трафик с мобильных устройств ,действительно, практически не отличается от трафика с десктопных устройств с точки зрения CR. Разница составила 0.02% в пользу трафика с мобильных устройств."
   ]
  },
  {
   "cell_type": "code",
   "execution_count": 7,
   "id": "7dc80890",
   "metadata": {},
   "outputs": [
    {
     "name": "stdout",
     "output_type": "stream",
     "text": [
      "Колличество событий органического трафика: 13319033\n",
      "Количество событий органического трафика,в которых было выполнено  целевое действие: 89096\n",
      "CR органического трафика = 0.67%\n"
     ]
    }
   ],
   "source": [
    "#Расчет CR для трафика с Москвы и Санкт-Петербурга\n",
    "C = df.target_city.value_counts()[\"moscow\"] + df.target_city.value_counts()[\"spb\"]\n",
    "Tcm = sum((df.target_city == \"moscow\") & (df.target == 1))\n",
    "Tcs = sum((df.target_city == \"spb\") & (df.target == 1))\n",
    "T = Tcm + Tcs\n",
    "CRc = T/C*100\n",
    "\n",
    "print(f\"Колличество событий органического трафика: {C}\")\n",
    "print(f\"Количество событий органического трафика,в которых было выполнено  целевое действие: {T}\")\n",
    "print(f\"CR органического трафика = {round(CRc, 2)}%\")"
   ]
  },
  {
   "cell_type": "code",
   "execution_count": 8,
   "id": "c66ccec1",
   "metadata": {},
   "outputs": [
    {
     "name": "stdout",
     "output_type": "stream",
     "text": [
      "Колличество событий органического трафика: 2365486\n",
      "Количество событий органического трафика,в которых было выполнено  целевое действие: 13736\n",
      "CR органического трафика = 0.58%\n"
     ]
    }
   ],
   "source": [
    "#Расчет CR для трафика с иных регионов\n",
    "R = df.target_city.value_counts()[\"other\"]\n",
    "T = sum((df.target_city == \"other\") & (df.target == 1))\n",
    "CRr = T/R*100\n",
    "\n",
    "print(f\"Колличество событий органического трафика: {R}\")\n",
    "print(f\"Количество событий органического трафика,в которых было выполнено  целевое действие: {T}\")\n",
    "print(f\"CR органического трафика = {round(CRr, 2)}%\")"
   ]
  },
  {
   "cell_type": "markdown",
   "id": "6fd68a35",
   "metadata": {},
   "source": [
    "#### Трафик с Москвы и Санкт-Петербурга с точки зрения CR на 0.09% эффективнее трафика с других регионов."
   ]
  },
  {
   "cell_type": "markdown",
   "id": "5b5d47af",
   "metadata": {},
   "source": [
    "### 4.1 Ответы на вопросы продуктовой команды"
   ]
  },
  {
   "cell_type": "markdown",
   "id": "1e126e07",
   "metadata": {},
   "source": [
    "#### Вопрос 1:"
   ]
  },
  {
   "cell_type": "code",
   "execution_count": 9,
   "id": "d2e4e0e8",
   "metadata": {
    "scrolled": false
   },
   "outputs": [
    {
     "name": "stdout",
     "output_type": "stream",
     "text": [
      "Самый большой объем трафика идёт из источника HbolMJUevblAbkHClEQa, и составляет 96.4% от всего объема трафика\n",
      "Самый большой объем трафика идёт с рекламной компании  LTuZkdKfxRGVceoWkVyg, и составляет 47.0% от всего объема трафика\n",
      "Самый большой объем трафика идёт с категорий устройств mobile, и составляет 73.9% от всего объема трафика\n",
      "Самый большой объем трафика идёт с устройств бренда  Apple, и составляет 30.0% от всего объема трафика\n",
      "Самый большой объем трафика идёт с города moscow, и составляет 43.3% от всего объема трафика\n"
     ]
    }
   ],
   "source": [
    "#Расчитаем самый целевой трафик с точки зрения объема трафика для различный категорий\n",
    "print(f\"Самый большой объем трафика идёт из источника {df.hit_referer.mode()[0]}, и составляет {round(df.hit_referer.value_counts()[0]/len(df)*100, 1)}% от всего объема трафика\")\n",
    "print(f\"Самый большой объем трафика идёт с рекламной компании  {df.utm_campaign.mode()[0]}, и составляет {round(df.utm_campaign.value_counts()[0]/len(df)*100, 1)}% от всего объема трафика\")\n",
    "print(f\"Самый большой объем трафика идёт с категорий устройств {df.device_category.mode()[0]}, и составляет {round(df.device_category.value_counts()[0]/len(df)*100, 1)}% от всего объема трафика\")\n",
    "print(f\"Самый большой объем трафика идёт с устройств бренда  {df.device_brand.mode()[0]}, и составляет {round(df.device_brand.value_counts()[0]/len(df)*100, 1)}% от всего объема трафика\")\n",
    "print(f\"Самый большой объем трафика идёт с города {df.geo_city.mode()[0]}, и составляет {round(df.geo_city.value_counts()[0]/len(df)*100, 1)}% от всего объема трафика\")"
   ]
  },
  {
   "cell_type": "markdown",
   "id": "f64dbe27",
   "metadata": {},
   "source": [
    "#### CR в дальнейшем расчитывается для количества сессий > 1000, потому как при меньшем значении сложно оценить результат.Например, если сессий с города Рязань было всего 2, а целевое действие выполнено 1 раз, CR составит 50%.Но при количестве сессий в 1000, показатель CR  наврятли составит 50%."
   ]
  },
  {
   "cell_type": "code",
   "execution_count": 12,
   "id": "e24c3a3c",
   "metadata": {
    "scrolled": false
   },
   "outputs": [
    {
     "name": "stderr",
     "output_type": "stream",
     "text": [
      "100%|██████████| 39/39 [02:18<00:00,  3.54s/it]"
     ]
    },
    {
     "name": "stdout",
     "output_type": "stream",
     "text": [
      "Три лучших значений конверсии из источников:\n",
      "qurtzHmvijzwwngERJfV = 3.3%, IXrZcSwaRZBPpHIybFlM = 2.43%, sAGDBCdeVPmQPwkVEcIX = 2.42%\n"
     ]
    },
    {
     "name": "stderr",
     "output_type": "stream",
     "text": [
      "\n"
     ]
    },
    {
     "data": {
      "text/html": [
       "<div>\n",
       "<style scoped>\n",
       "    .dataframe tbody tr th:only-of-type {\n",
       "        vertical-align: middle;\n",
       "    }\n",
       "\n",
       "    .dataframe tbody tr th {\n",
       "        vertical-align: top;\n",
       "    }\n",
       "\n",
       "    .dataframe thead th {\n",
       "        text-align: right;\n",
       "    }\n",
       "</style>\n",
       "<table border=\"1\" class=\"dataframe\">\n",
       "  <thead>\n",
       "    <tr style=\"text-align: right;\">\n",
       "      <th></th>\n",
       "      <th>Источник</th>\n",
       "      <th>Conversion Rate</th>\n",
       "    </tr>\n",
       "  </thead>\n",
       "  <tbody>\n",
       "    <tr>\n",
       "      <th>0</th>\n",
       "      <td>qurtzHmvijzwwngERJfV</td>\n",
       "      <td>3.30</td>\n",
       "    </tr>\n",
       "    <tr>\n",
       "      <th>1</th>\n",
       "      <td>IXrZcSwaRZBPpHIybFlM</td>\n",
       "      <td>2.43</td>\n",
       "    </tr>\n",
       "    <tr>\n",
       "      <th>2</th>\n",
       "      <td>sAGDBCdeVPmQPwkVEcIX</td>\n",
       "      <td>2.42</td>\n",
       "    </tr>\n",
       "    <tr>\n",
       "      <th>3</th>\n",
       "      <td>FwdMTcXzWAwhtsnMAbhS</td>\n",
       "      <td>2.33</td>\n",
       "    </tr>\n",
       "    <tr>\n",
       "      <th>4</th>\n",
       "      <td>ayiFomhbZsohffvJEYjc</td>\n",
       "      <td>2.32</td>\n",
       "    </tr>\n",
       "  </tbody>\n",
       "</table>\n",
       "</div>"
      ],
      "text/plain": [
       "               Источник  Conversion Rate\n",
       "0  qurtzHmvijzwwngERJfV             3.30\n",
       "1  IXrZcSwaRZBPpHIybFlM             2.43\n",
       "2  sAGDBCdeVPmQPwkVEcIX             2.42\n",
       "3  FwdMTcXzWAwhtsnMAbhS             2.33\n",
       "4  ayiFomhbZsohffvJEYjc             2.32"
      ]
     },
     "execution_count": 12,
     "metadata": {},
     "output_type": "execute_result"
    }
   ],
   "source": [
    "#Расчитаем CR для всех источников, количество сессий из которых было больше 1000: \n",
    "\n",
    "cr_referer = pd.DataFrame(columns=['Источник', 'Conversion Rate'])\n",
    "\n",
    "for i in tqdm(range(sum(df.hit_referer.value_counts() > 1000))):\n",
    "    if df.hit_referer.value_counts()[i] > 1000:\n",
    "            target = sum((df.hit_referer == df.hit_referer.value_counts().keys()[i]) & (df.target == 1))        \n",
    "            all = df.hit_referer.value_counts()[i]\n",
    "            CR = round(target/all*100, 2)\n",
    "            cr_referer.loc[len(cr_referer.index)]=[df.hit_referer.value_counts().keys()[i], CR]\n",
    "\n",
    "cr_referer = cr_referer.sort_values(by='Conversion Rate', ascending=False)\n",
    "cr_referer.reset_index(drop=True, inplace=True)\n",
    "print(f\"Три лучших значений конверсии из источников:\\n{cr_referer.at[0,'Источник']} = {cr_referer.at[0,'Conversion Rate']}%, {cr_referer.at[1,'Источник']} = {cr_referer.at[1,'Conversion Rate']}%, {cr_referer.at[2,'Источник']} = {cr_referer.at[2,'Conversion Rate']}%\")\n",
    "cr_referer.head()"
   ]
  },
  {
   "cell_type": "code",
   "execution_count": 13,
   "id": "809aed57",
   "metadata": {
    "scrolled": true
   },
   "outputs": [
    {
     "name": "stderr",
     "output_type": "stream",
     "text": [
      "100%|██████████| 163/163 [09:28<00:00,  3.48s/it]"
     ]
    },
    {
     "name": "stdout",
     "output_type": "stream",
     "text": [
      "Три лучших значений конверсии из рекламных компаний:\n",
      "hJvOVTMdhkqIBqjVrsOL = 8.2%, kwdmElMUPDZaLQdgjcsI = 5.27%, KCcrgoFqYxCpSjdRyJjZ = 4.3%\n"
     ]
    },
    {
     "name": "stderr",
     "output_type": "stream",
     "text": [
      "\n"
     ]
    },
    {
     "data": {
      "text/html": [
       "<div>\n",
       "<style scoped>\n",
       "    .dataframe tbody tr th:only-of-type {\n",
       "        vertical-align: middle;\n",
       "    }\n",
       "\n",
       "    .dataframe tbody tr th {\n",
       "        vertical-align: top;\n",
       "    }\n",
       "\n",
       "    .dataframe thead th {\n",
       "        text-align: right;\n",
       "    }\n",
       "</style>\n",
       "<table border=\"1\" class=\"dataframe\">\n",
       "  <thead>\n",
       "    <tr style=\"text-align: right;\">\n",
       "      <th></th>\n",
       "      <th>Компания</th>\n",
       "      <th>Conversion Rate</th>\n",
       "    </tr>\n",
       "  </thead>\n",
       "  <tbody>\n",
       "    <tr>\n",
       "      <th>0</th>\n",
       "      <td>hJvOVTMdhkqIBqjVrsOL</td>\n",
       "      <td>8.20</td>\n",
       "    </tr>\n",
       "    <tr>\n",
       "      <th>1</th>\n",
       "      <td>kwdmElMUPDZaLQdgjcsI</td>\n",
       "      <td>5.27</td>\n",
       "    </tr>\n",
       "    <tr>\n",
       "      <th>2</th>\n",
       "      <td>KCcrgoFqYxCpSjdRyJjZ</td>\n",
       "      <td>4.30</td>\n",
       "    </tr>\n",
       "    <tr>\n",
       "      <th>3</th>\n",
       "      <td>emlBaVkgLVRqbEVOSSXt</td>\n",
       "      <td>3.58</td>\n",
       "    </tr>\n",
       "    <tr>\n",
       "      <th>4</th>\n",
       "      <td>DsqwamlMwRgMTyspCjFR</td>\n",
       "      <td>3.39</td>\n",
       "    </tr>\n",
       "  </tbody>\n",
       "</table>\n",
       "</div>"
      ],
      "text/plain": [
       "               Компания  Conversion Rate\n",
       "0  hJvOVTMdhkqIBqjVrsOL             8.20\n",
       "1  kwdmElMUPDZaLQdgjcsI             5.27\n",
       "2  KCcrgoFqYxCpSjdRyJjZ             4.30\n",
       "3  emlBaVkgLVRqbEVOSSXt             3.58\n",
       "4  DsqwamlMwRgMTyspCjFR             3.39"
      ]
     },
     "execution_count": 13,
     "metadata": {},
     "output_type": "execute_result"
    }
   ],
   "source": [
    "#Расчитаем CR для всех рекламных компаний, количество сессий из которых было больше 1000:\n",
    "\n",
    "cr_campaign = pd.DataFrame(columns=['Компания', 'Conversion Rate'])\n",
    "\n",
    "for i in tqdm(range(sum(df.utm_campaign.value_counts() > 1000))):\n",
    "    if df.utm_campaign.value_counts()[i] > 1000:\n",
    "            target = sum((df.utm_campaign == df.utm_campaign.value_counts().keys()[i]) & (df.target == 1))        \n",
    "            all = df.utm_campaign.value_counts()[i]\n",
    "            CR = round(target/all*100, 2)\n",
    "            cr_campaign.loc[len(cr_campaign.index)]=[df.utm_campaign.value_counts().keys()[i], CR]\n",
    "\n",
    "cr_campaign = cr_campaign.sort_values(by='Conversion Rate', ascending=False)\n",
    "cr_campaign.reset_index(drop=True, inplace=True)\n",
    "print(f\"Три лучших значений конверсии из рекламных компаний:\\n{cr_campaign.at[0,'Компания']} = {cr_campaign.at[0,'Conversion Rate']}%, {cr_campaign.at[1,'Компания']} = {cr_campaign.at[1,'Conversion Rate']}%, {cr_campaign.at[2,'Компания']} = {cr_campaign.at[2,'Conversion Rate']}%\")\n",
    "cr_campaign.head()"
   ]
  },
  {
   "cell_type": "code",
   "execution_count": 14,
   "id": "6e7bf866",
   "metadata": {
    "scrolled": true
   },
   "outputs": [
    {
     "name": "stderr",
     "output_type": "stream",
     "text": [
      "100%|██████████| 3/3 [00:08<00:00,  2.89s/it]"
     ]
    },
    {
     "name": "stdout",
     "output_type": "stream",
     "text": [
      "Три лучших значений конверсии из категорий устройств:\n",
      "mobile = 0.66%, desktop = 0.64%, tablet = 0.53%\n"
     ]
    },
    {
     "name": "stderr",
     "output_type": "stream",
     "text": [
      "\n"
     ]
    },
    {
     "data": {
      "text/html": [
       "<div>\n",
       "<style scoped>\n",
       "    .dataframe tbody tr th:only-of-type {\n",
       "        vertical-align: middle;\n",
       "    }\n",
       "\n",
       "    .dataframe tbody tr th {\n",
       "        vertical-align: top;\n",
       "    }\n",
       "\n",
       "    .dataframe thead th {\n",
       "        text-align: right;\n",
       "    }\n",
       "</style>\n",
       "<table border=\"1\" class=\"dataframe\">\n",
       "  <thead>\n",
       "    <tr style=\"text-align: right;\">\n",
       "      <th></th>\n",
       "      <th>Категория устройства</th>\n",
       "      <th>Conversion Rate</th>\n",
       "    </tr>\n",
       "  </thead>\n",
       "  <tbody>\n",
       "    <tr>\n",
       "      <th>0</th>\n",
       "      <td>mobile</td>\n",
       "      <td>0.66</td>\n",
       "    </tr>\n",
       "    <tr>\n",
       "      <th>1</th>\n",
       "      <td>desktop</td>\n",
       "      <td>0.64</td>\n",
       "    </tr>\n",
       "    <tr>\n",
       "      <th>2</th>\n",
       "      <td>tablet</td>\n",
       "      <td>0.53</td>\n",
       "    </tr>\n",
       "  </tbody>\n",
       "</table>\n",
       "</div>"
      ],
      "text/plain": [
       "  Категория устройства  Conversion Rate\n",
       "0               mobile             0.66\n",
       "1              desktop             0.64\n",
       "2               tablet             0.53"
      ]
     },
     "execution_count": 14,
     "metadata": {},
     "output_type": "execute_result"
    }
   ],
   "source": [
    "#Расчитаем CR для всех категорий устройств:\n",
    "\n",
    "cr_dc= pd.DataFrame(columns=['Категория устройства', 'Conversion Rate'])\n",
    "\n",
    "for i in tqdm(range(len(df.device_category.value_counts()))):\n",
    "    target = sum((df.device_category == df.device_category.value_counts().keys()[i]) & (df.target == 1))        \n",
    "    all = df.device_category.value_counts()[i]\n",
    "    CR = round(target/all*100, 2)\n",
    "    cr_dc.loc[len(cr_dc.index)]=[df.device_category.value_counts().keys()[i], CR]\n",
    "\n",
    "cr_dc = cr_dc.sort_values(by='Conversion Rate', ascending=False)\n",
    "cr_dc.reset_index(drop=True, inplace=True)\n",
    "print(f\"Три лучших значений конверсии из категорий устройств:\\n{cr_dc.at[0,'Категория устройства']} = {cr_dc.at[0,'Conversion Rate']}%, {cr_dc.at[1,'Категория устройства']} = {cr_dc.at[1,'Conversion Rate']}%, {cr_dc.at[2,'Категория устройства']} = {cr_dc.at[2,'Conversion Rate']}%\")\n",
    "cr_dc.head()"
   ]
  },
  {
   "cell_type": "code",
   "execution_count": 15,
   "id": "b2114f1d",
   "metadata": {},
   "outputs": [
    {
     "name": "stderr",
     "output_type": "stream",
     "text": [
      "100%|██████████| 40/40 [02:17<00:00,  3.44s/it]"
     ]
    },
    {
     "name": "stdout",
     "output_type": "stream",
     "text": [
      "Три лучших значений конверсии из брендов устройств:\n",
      "Alcatel = 1.16%, Tecno = 0.95%, LeEco = 0.92%\n"
     ]
    },
    {
     "name": "stderr",
     "output_type": "stream",
     "text": [
      "\n"
     ]
    },
    {
     "data": {
      "text/html": [
       "<div>\n",
       "<style scoped>\n",
       "    .dataframe tbody tr th:only-of-type {\n",
       "        vertical-align: middle;\n",
       "    }\n",
       "\n",
       "    .dataframe tbody tr th {\n",
       "        vertical-align: top;\n",
       "    }\n",
       "\n",
       "    .dataframe thead th {\n",
       "        text-align: right;\n",
       "    }\n",
       "</style>\n",
       "<table border=\"1\" class=\"dataframe\">\n",
       "  <thead>\n",
       "    <tr style=\"text-align: right;\">\n",
       "      <th></th>\n",
       "      <th>Бренд устройства</th>\n",
       "      <th>Conversion Rate</th>\n",
       "    </tr>\n",
       "  </thead>\n",
       "  <tbody>\n",
       "    <tr>\n",
       "      <th>0</th>\n",
       "      <td>Alcatel</td>\n",
       "      <td>1.16</td>\n",
       "    </tr>\n",
       "    <tr>\n",
       "      <th>1</th>\n",
       "      <td>Tecno</td>\n",
       "      <td>0.95</td>\n",
       "    </tr>\n",
       "    <tr>\n",
       "      <th>2</th>\n",
       "      <td>LeEco</td>\n",
       "      <td>0.92</td>\n",
       "    </tr>\n",
       "    <tr>\n",
       "      <th>3</th>\n",
       "      <td>itel</td>\n",
       "      <td>0.91</td>\n",
       "    </tr>\n",
       "    <tr>\n",
       "      <th>4</th>\n",
       "      <td>OPPO</td>\n",
       "      <td>0.88</td>\n",
       "    </tr>\n",
       "  </tbody>\n",
       "</table>\n",
       "</div>"
      ],
      "text/plain": [
       "  Бренд устройства  Conversion Rate\n",
       "0          Alcatel             1.16\n",
       "1            Tecno             0.95\n",
       "2            LeEco             0.92\n",
       "3             itel             0.91\n",
       "4             OPPO             0.88"
      ]
     },
     "execution_count": 15,
     "metadata": {},
     "output_type": "execute_result"
    }
   ],
   "source": [
    "#Расчитаем CR для всех брендов устройств, количество сессий из которых было больше 1000:\n",
    "\n",
    "cr_db= pd.DataFrame(columns=['Бренд устройства', 'Conversion Rate'])\n",
    "\n",
    "for i in tqdm(range(sum(df.device_brand.value_counts() > 1000))):\n",
    "    if df.device_brand.value_counts()[i] > 1000:\n",
    "        target = sum((df.device_brand == df.device_brand.value_counts().keys()[i]) & (df.target == 1))        \n",
    "        all = df.device_brand.value_counts()[i]\n",
    "        CR = round(target/all*100, 2)\n",
    "        cr_db.loc[len(cr_db.index)]=[df.device_brand.value_counts().keys()[i], CR]\n",
    "\n",
    "cr_db = cr_db.sort_values(by='Conversion Rate', ascending=False)\n",
    "cr_db.reset_index(drop=True, inplace=True)\n",
    "print(f\"Три лучших значений конверсии из брендов устройств:\\n{cr_db.at[0,'Бренд устройства']} = {cr_db.at[0,'Conversion Rate']}%, {cr_db.at[1,'Бренд устройства']} = {cr_db.at[1,'Conversion Rate']}%, {cr_db.at[2,'Бренд устройства']} = {cr_db.at[2,'Conversion Rate']}%\")\n",
    "cr_db.head()"
   ]
  },
  {
   "cell_type": "code",
   "execution_count": 16,
   "id": "94765aa2",
   "metadata": {},
   "outputs": [
    {
     "name": "stderr",
     "output_type": "stream",
     "text": [
      "100%|██████████| 318/318 [18:54<00:00,  3.57s/it]"
     ]
    },
    {
     "name": "stdout",
     "output_type": "stream",
     "text": [
      "Три лучших значений конверсии из городов:\n",
      "domodedovo = 1.97%, tallinn = 1.36%, nazran = 1.24%\n"
     ]
    },
    {
     "name": "stderr",
     "output_type": "stream",
     "text": [
      "\n"
     ]
    },
    {
     "data": {
      "text/html": [
       "<div>\n",
       "<style scoped>\n",
       "    .dataframe tbody tr th:only-of-type {\n",
       "        vertical-align: middle;\n",
       "    }\n",
       "\n",
       "    .dataframe tbody tr th {\n",
       "        vertical-align: top;\n",
       "    }\n",
       "\n",
       "    .dataframe thead th {\n",
       "        text-align: right;\n",
       "    }\n",
       "</style>\n",
       "<table border=\"1\" class=\"dataframe\">\n",
       "  <thead>\n",
       "    <tr style=\"text-align: right;\">\n",
       "      <th></th>\n",
       "      <th>Город</th>\n",
       "      <th>Conversion Rate</th>\n",
       "    </tr>\n",
       "  </thead>\n",
       "  <tbody>\n",
       "    <tr>\n",
       "      <th>0</th>\n",
       "      <td>domodedovo</td>\n",
       "      <td>1.97</td>\n",
       "    </tr>\n",
       "    <tr>\n",
       "      <th>1</th>\n",
       "      <td>tallinn</td>\n",
       "      <td>1.36</td>\n",
       "    </tr>\n",
       "    <tr>\n",
       "      <th>2</th>\n",
       "      <td>nazran</td>\n",
       "      <td>1.24</td>\n",
       "    </tr>\n",
       "    <tr>\n",
       "      <th>3</th>\n",
       "      <td>side</td>\n",
       "      <td>1.22</td>\n",
       "    </tr>\n",
       "    <tr>\n",
       "      <th>4</th>\n",
       "      <td>dimitrovgrad</td>\n",
       "      <td>1.22</td>\n",
       "    </tr>\n",
       "  </tbody>\n",
       "</table>\n",
       "</div>"
      ],
      "text/plain": [
       "          Город  Conversion Rate\n",
       "0    domodedovo             1.97\n",
       "1       tallinn             1.36\n",
       "2        nazran             1.24\n",
       "3          side             1.22\n",
       "4  dimitrovgrad             1.22"
      ]
     },
     "execution_count": 16,
     "metadata": {},
     "output_type": "execute_result"
    }
   ],
   "source": [
    "#Расчитаем CR для всех городов, количество сессий из которых было больше 1000:\n",
    "\n",
    "cr_gc= pd.DataFrame(columns=['Город', 'Conversion Rate'])\n",
    "\n",
    "for i in tqdm(range(sum(df.geo_city.value_counts() > 1000))):\n",
    "    if df.geo_city.value_counts()[i] > 1000:\n",
    "        target = sum((df.geo_city == df.geo_city.value_counts().keys()[i]) & (df.target == 1))        \n",
    "        all = df.geo_city.value_counts()[i]\n",
    "        CR = round(target/all*100, 2)\n",
    "        cr_gc.loc[len(cr_gc.index)]=[df.geo_city.value_counts().keys()[i], CR]\n",
    "\n",
    "cr_gc = cr_gc.sort_values(by='Conversion Rate', ascending=False)\n",
    "cr_gc.reset_index(drop=True, inplace=True)\n",
    "print(f\"Три лучших значений конверсии из городов:\\n{cr_gc.at[0,'Город']} = {cr_gc.at[0,'Conversion Rate']}%, {cr_gc.at[1,'Город']} = {cr_gc.at[1,'Conversion Rate']}%, {cr_gc.at[2,'Город']} = {cr_gc.at[2,'Conversion Rate']}%\")\n",
    "cr_gc.head()"
   ]
  },
  {
   "cell_type": "markdown",
   "id": "7c49b512",
   "metadata": {},
   "source": [
    "#### Вопрос 2:"
   ]
  },
  {
   "cell_type": "code",
   "execution_count": null,
   "id": "4ffee2b6",
   "metadata": {},
   "outputs": [],
   "source": []
  },
  {
   "cell_type": "code",
   "execution_count": 17,
   "id": "648a98a5",
   "metadata": {},
   "outputs": [
    {
     "name": "stderr",
     "output_type": "stream",
     "text": [
      "100%|██████████| 21/21 [01:16<00:00,  3.64s/it]"
     ]
    },
    {
     "name": "stdout",
     "output_type": "stream",
     "text": [
      "Три лучших значений конверсии для автомобилей:\n",
      "hyundai = 1.89%, lada-vaz = 1.3%, volkswagen = 1.19%\n"
     ]
    },
    {
     "name": "stderr",
     "output_type": "stream",
     "text": [
      "\n"
     ]
    },
    {
     "data": {
      "text/html": [
       "<div>\n",
       "<style scoped>\n",
       "    .dataframe tbody tr th:only-of-type {\n",
       "        vertical-align: middle;\n",
       "    }\n",
       "\n",
       "    .dataframe tbody tr th {\n",
       "        vertical-align: top;\n",
       "    }\n",
       "\n",
       "    .dataframe thead th {\n",
       "        text-align: right;\n",
       "    }\n",
       "</style>\n",
       "<table border=\"1\" class=\"dataframe\">\n",
       "  <thead>\n",
       "    <tr style=\"text-align: right;\">\n",
       "      <th></th>\n",
       "      <th>Автомобиль</th>\n",
       "      <th>Conversion Rate</th>\n",
       "    </tr>\n",
       "  </thead>\n",
       "  <tbody>\n",
       "    <tr>\n",
       "      <th>0</th>\n",
       "      <td>hyundai</td>\n",
       "      <td>1.89</td>\n",
       "    </tr>\n",
       "    <tr>\n",
       "      <th>1</th>\n",
       "      <td>lada-vaz</td>\n",
       "      <td>1.30</td>\n",
       "    </tr>\n",
       "    <tr>\n",
       "      <th>2</th>\n",
       "      <td>volkswagen</td>\n",
       "      <td>1.19</td>\n",
       "    </tr>\n",
       "    <tr>\n",
       "      <th>3</th>\n",
       "      <td>kia</td>\n",
       "      <td>1.15</td>\n",
       "    </tr>\n",
       "    <tr>\n",
       "      <th>4</th>\n",
       "      <td>haval</td>\n",
       "      <td>1.11</td>\n",
       "    </tr>\n",
       "  </tbody>\n",
       "</table>\n",
       "</div>"
      ],
      "text/plain": [
       "   Автомобиль  Conversion Rate\n",
       "0     hyundai             1.89\n",
       "1    lada-vaz             1.30\n",
       "2  volkswagen             1.19\n",
       "3         kia             1.15\n",
       "4       haval             1.11"
      ]
     },
     "execution_count": 17,
     "metadata": {},
     "output_type": "execute_result"
    }
   ],
   "source": [
    "#Расчитаем CR для автомобилей, количество сессий для которых было больше 1000:\n",
    "\n",
    "cr_cb= pd.DataFrame(columns=['Автомобиль', 'Conversion Rate'])\n",
    "\n",
    "for i in tqdm(range(sum(df.car_brand.value_counts() > 1000))):\n",
    "    if df.car_brand.value_counts()[i] > 1000:\n",
    "        target = sum((df.car_brand == df.car_brand.value_counts().keys()[i]) & (df.target == 1))        \n",
    "        all = df.car_brand.value_counts()[i]\n",
    "        CR = round(target/all*100, 2)\n",
    "        cr_cb.loc[len(cr_cb.index)]=[df.car_brand.value_counts().keys()[i], CR]\n",
    "\n",
    "cr_cb = cr_cb.sort_values(by='Conversion Rate', ascending=False)\n",
    "cr_cb.reset_index(drop=True, inplace=True)\n",
    "print(f\"Три лучших значений конверсии для автомобилей:\\n{cr_cb.at[0,'Автомобиль']} = {cr_cb.at[0,'Conversion Rate']}%, {cr_cb.at[1,'Автомобиль']} = {cr_cb.at[1,'Conversion Rate']}%, {cr_cb.at[2,'Автомобиль']} = {cr_cb.at[2,'Conversion Rate']}%\")\n",
    "cr_cb.head()"
   ]
  },
  {
   "cell_type": "markdown",
   "id": "3af83aef",
   "metadata": {},
   "source": [
    "#### Лучшие показатели конверсии имеют такие марки автомобилей как: Hyundai, Lada и Volkswagen. Пользователи сервиса чаще обращают внимание на бюджетные автомобили. Возможно, следует планировать пополнение автопарка с учетом данных показателей."
   ]
  },
  {
   "cell_type": "markdown",
   "id": "4bfb14e2",
   "metadata": {},
   "source": [
    "#### Вопрос 3:"
   ]
  },
  {
   "cell_type": "code",
   "execution_count": 27,
   "id": "e7b9e3bc",
   "metadata": {
    "scrolled": false
   },
   "outputs": [
    {
     "name": "stderr",
     "output_type": "stream",
     "text": [
      "100%|██████████| 6/6 [00:07<00:00,  1.22s/it]"
     ]
    },
    {
     "name": "stdout",
     "output_type": "stream",
     "text": [
      "Три лучших значений конверсии для соц.сетей:\n",
      "MvfHsxITijuriZxsqZqt = 0.75%, IZEXUFLARCUMynmHNBGo = 0.75%, QxAxdyPLuQMEcrdZWdWb = 0.68%\n"
     ]
    },
    {
     "name": "stderr",
     "output_type": "stream",
     "text": [
      "\n"
     ]
    },
    {
     "data": {
      "text/html": [
       "<div>\n",
       "<style scoped>\n",
       "    .dataframe tbody tr th:only-of-type {\n",
       "        vertical-align: middle;\n",
       "    }\n",
       "\n",
       "    .dataframe tbody tr th {\n",
       "        vertical-align: top;\n",
       "    }\n",
       "\n",
       "    .dataframe thead th {\n",
       "        text-align: right;\n",
       "    }\n",
       "</style>\n",
       "<table border=\"1\" class=\"dataframe\">\n",
       "  <thead>\n",
       "    <tr style=\"text-align: right;\">\n",
       "      <th></th>\n",
       "      <th>Соц.сеть</th>\n",
       "      <th>Conversion Rate</th>\n",
       "    </tr>\n",
       "  </thead>\n",
       "  <tbody>\n",
       "    <tr>\n",
       "      <th>0</th>\n",
       "      <td>MvfHsxITijuriZxsqZqt</td>\n",
       "      <td>0.75</td>\n",
       "    </tr>\n",
       "    <tr>\n",
       "      <th>1</th>\n",
       "      <td>IZEXUFLARCUMynmHNBGo</td>\n",
       "      <td>0.75</td>\n",
       "    </tr>\n",
       "    <tr>\n",
       "      <th>2</th>\n",
       "      <td>QxAxdyPLuQMEcrdZWdWb</td>\n",
       "      <td>0.68</td>\n",
       "    </tr>\n",
       "    <tr>\n",
       "      <th>3</th>\n",
       "      <td>gVRrcxiDQubJiljoTbGm</td>\n",
       "      <td>0.49</td>\n",
       "    </tr>\n",
       "    <tr>\n",
       "      <th>4</th>\n",
       "      <td>ISrKoXQCxqqYvAZICvjs</td>\n",
       "      <td>0.37</td>\n",
       "    </tr>\n",
       "    <tr>\n",
       "      <th>5</th>\n",
       "      <td>PlbkrSYoHuZBWfYjYnfw</td>\n",
       "      <td>0.17</td>\n",
       "    </tr>\n",
       "  </tbody>\n",
       "</table>\n",
       "</div>"
      ],
      "text/plain": [
       "               Соц.сеть  Conversion Rate\n",
       "0  MvfHsxITijuriZxsqZqt             0.75\n",
       "1  IZEXUFLARCUMynmHNBGo             0.75\n",
       "2  QxAxdyPLuQMEcrdZWdWb             0.68\n",
       "3  gVRrcxiDQubJiljoTbGm             0.49\n",
       "4  ISrKoXQCxqqYvAZICvjs             0.37\n",
       "5  PlbkrSYoHuZBWfYjYnfw             0.17"
      ]
     },
     "execution_count": 27,
     "metadata": {},
     "output_type": "execute_result"
    }
   ],
   "source": [
    "#Расчитаем CR для прихода с соц.сетей:\n",
    "S = df.utm_source.value_counts()[social_network]\n",
    "cr_coming= pd.DataFrame(columns=['Соц.сеть', 'Conversion Rate'])\n",
    "\n",
    "for i in tqdm(range(len(S))):\n",
    "    target = sum((df.utm_source == S.keys()[i]) & (df.target == 1))        \n",
    "    all = S[i]\n",
    "    CR = round(target/all*100, 2)\n",
    "    cr_coming.loc[len(cr_coming.index)]=[S.keys()[i], CR]\n",
    "\n",
    "cr_coming = cr_coming.sort_values(by='Conversion Rate', ascending=False)\n",
    "cr_coming.reset_index(drop=True, inplace=True)\n",
    "print(f\"Три лучших значений конверсии для соц.сетей:\\n{cr_coming.at[0,'Соц.сеть']} = {cr_coming.at[0,'Conversion Rate']}%, {cr_coming.at[1,'Соц.сеть']} = {cr_coming.at[1,'Conversion Rate']}%, {cr_coming.at[2,'Соц.сеть']} = {cr_coming.at[2,'Conversion Rate']}%\")\n",
    "cr_coming.head(6)"
   ]
  },
  {
   "cell_type": "code",
   "execution_count": 32,
   "id": "9a7a79dd",
   "metadata": {
    "scrolled": true
   },
   "outputs": [
    {
     "data": {
      "text/plain": [
       "['FTAuYVNoYYxgvKMpKSLW',\n",
       " 'ySpKPVDYCgmkHVSeLjnJ',\n",
       " 'CXgqTLNTvvxWUWoOfjNF',\n",
       " 'MlvrtLODeciGJoIzwoNf',\n",
       " 'gSwaXkJgHiWoIntUiupK',\n",
       " 'RAeIjhqmnmNXpLaHKdgp',\n",
       " 'aXQzDWsJuGXeBXexNHjc',\n",
       " 'sOTrgtUMUuYzzWBPLeFQ',\n",
       " 'vEBWkLmuIpqNdxZZdlnW',\n",
       " 'LBaWJEeycBIqEqUqkoqw',\n",
       " 'hYVrCkhCPSqKBhZYhWVq',\n",
       " 'EyveFmCGCQchHbSIRpVc',\n",
       " 'xQnKzPSrehWizZOmwHkM',\n",
       " 'CHdbSXINvRmKaAtGIGzz',\n",
       " 'yCnTwlCLkqZHwAglrEll',\n",
       " 'FTjNLDyTrXaWYgZymFkV',\n",
       " 'tYfqTBjAxWbmBruissGm',\n",
       " 'ngkgBNjlzLYBofkljaBo',\n",
       " 'azajeHUvPOKkHBvWFbjz',\n",
       " 'eooqChmKKdvCvkvVEKSN',\n",
       " 'ysUnXJVzkMTkkmGifVJI',\n",
       " 'MEitHbTnBcZIHbJvtCyh',\n",
       " 'RPdScaVSDDKvfbqPGRVe',\n",
       " 'RzLAoRYmCtVATSoPvWAQ',\n",
       " 'TTtiRKFZIaQpIWggfCoF',\n",
       " 'GWZGdHKPgmZPNPwkJshU',\n",
       " 'LkGnzVRewoaOHnMCwadT',\n",
       " 'fUhxIMXvMivfzvXbtxXS',\n",
       " 'RmEBuqrriAfAVsLQQmhk',\n",
       " 'GkGprIZHXAKqgsyDIvMR',\n",
       " 'fJCYsujgSxIHFbOmgDdN',\n",
       " 'VCREhgqUPSUkmfOTvGiW',\n",
       " 'QuIQZzbAETTwBxLvIiyY',\n",
       " 'eimRuUrNhZLAYcwRrNXu',\n",
       " 'ShCnUddaAbEvEVCCZyOt',\n",
       " 'DsqwamlMwRgMTyspCjFR',\n",
       " 'MYrKypXYDhDVwJMUhCqu',\n",
       " 'JcVHXwVSrnfIuOMMEkrJ',\n",
       " 'XGOsamgBesNClOIokPJY',\n",
       " 'UphNUPPFIJLIZnvubKDj',\n",
       " 'IRGUHqwEMepMjgCYBVRn',\n",
       " 'ANoZJgYuPrWNkAAchryx',\n",
       " 'oCqKpnSZJeYOVZTgTmKR',\n",
       " 'GmILPdZyuAVJCPsUBHeN',\n",
       " 'hONgZhBaHwLGhvJSefNE',\n",
       " 'LPiQJDVEpMDecOsQvTTl',\n",
       " 'LlBOVIARRTjfgnQNjJre',\n",
       " 'OboZzsWwJIeGPLeiLGMq',\n",
       " 'sbJRYgVfvcnqKJNDDYIr',\n",
       " 'CjHsHRAtVAsTzzFAhieH',\n",
       " 'XzfzEBYZWgSDtJNXOadn',\n",
       " 'zPJpddwzkFqLMSYgtDqy',\n",
       " 'qVXuCoVQtPxcUkAXiXBa',\n",
       " 'BqQyRtXZyotBYQPhnHTC',\n",
       " 'nnaPUJiwrEHwnRkuzmDD',\n",
       " 'eFGuYtbktaqRjJGmKrgt',\n",
       " 'BKeImrJuRDZcHiSSTdzm',\n",
       " 'zslzdtckVsyxcYqKBRRn',\n",
       " 'KGpIIoFhRfLgffkknBkK',\n",
       " 'LpqvupgvWJUGpCaowEIy',\n",
       " 'fRSoNoVhwXlxsbcAmZtb',\n",
       " 'nVVduuqoxTOGBvvhENWW',\n",
       " 'fcwjEERKGqQLIBYNygQV',\n",
       " 'cqgnjDbqrtCipVvzhxqa',\n",
       " 'YDhRPNErghvKCwWcfSFO',\n",
       " 'mfMzuDnnxZoVzgSxUxeJ',\n",
       " 'SHJiZmjiDXmvjHwbFkEu',\n",
       " 'cdPAGAvKeBGoqAkQBuGR',\n",
       " 'labpJCBQmsoWLfQvNTak',\n",
       " 'wVcghiqKrWURnHCgpBAi',\n",
       " 'YlsczTIyBSwTLNtuDkCd',\n",
       " 'bByPQxmDaMXgpHeypKSM',\n",
       " 'vDZlJSHSNetCcaizwODS',\n",
       " 'eBckTUycdWUDbWqXENLu',\n",
       " 'geDcueAOghDzHkGMmdOq',\n",
       " 'JdKLSdewxFqMMgKKiXBO',\n",
       " 'GpAkIXsclxDGyILfNlrR',\n",
       " 'GbuDbHhyctlqNtNRnebC',\n",
       " 'pvCdohkUBGPPZOsCzVAu',\n",
       " 'kUSlfGqiogPacOyFteie',\n",
       " 'DfoBrvtzFbohFKcUrmMV',\n",
       " 'NTQAiqAhSTbkRRmxVKoQ',\n",
       " 'NJzEnvxGTeAoWtXraOMM',\n",
       " 'YQXPpoLsxnykCWKhGEmI',\n",
       " 'CtYDKfzJhMZZOyeUeyMX',\n",
       " 'akoPqAqaJrLGbjrrIVPH',\n",
       " 'YWSizludtZnOxvXZCLip',\n",
       " 'NCOBaqbWTRpdTXezdNNg',\n",
       " 'fgymSoTvjKPEgaIJqsiH',\n",
       " 'emlBaVkgLVRqbEVOSSXt',\n",
       " 'WeIwsqEbpZGZwhcQktNS',\n",
       " 'hJvOVTMdhkqIBqjVrsOL',\n",
       " 'YmnqPKMqodkOEiiyvBYk',\n",
       " 'kjsLglQLzykiRbcDiGcD',\n",
       " 'aEIcioPGcIauoSISaTHm',\n",
       " 'cAqxcRdSSFAyCPUxQHqy',\n",
       " 'nSwtoJNvOztCnprKMSIM',\n",
       " 'FArFiZMprRBKpQtJYEPL',\n",
       " 'hkvDVxqLOzGjGaoNiNzN',\n",
       " 'QzPMrfYhYSLYYPtPaBxI',\n",
       " 'qkJqOqfMTtlyzUhWxuhL',\n",
       " 'MmyPhaRZgQtGHEnQbdUx',\n",
       " 'QYfbqJXuLdJGfOSFgZOs',\n",
       " 'tzIeQUUHahhBuEkJqDVp',\n",
       " 'WZxCpdfLzrgIfGUqxGpE',\n",
       " 'LqFAuDnKaWBLMIsdIrqS',\n",
       " 'tZFBLFXQHwkIPobFAmib',\n",
       " 'MBMyOAfAXcOTBxYdyuJz',\n",
       " 'NGNkCWwKgYFmiCCeZVxg',\n",
       " 'FNIjOzNNxWDHGSGhdwpo',\n",
       " 'NwuIyBhuPCXhJVPLtXCC',\n",
       " 'kKtSojgDlfomwthXhPjz',\n",
       " 'hTjLvqNxGggkGnxSCaTm',\n",
       " 'MSMDmOPoIWuXYqCanGOT',\n",
       " 'lndNIerCYECRQvBTyTye',\n",
       " 'ZpYIoDJMcFzVoPFsHGJL',\n",
       " 'COtBsnAzfZyRVtvDlhnW',\n",
       " 'ZbcOcgPIxJThEWbhHyVc',\n",
       " 'nJVPLgfxsBtPAXttNVDI',\n",
       " 'TkzfDRIBKntFdWkzUePd',\n",
       " 'GYkgJdhSxirUFPHFiYSe',\n",
       " 'YpBKcihLLfFjWuxOLfvW',\n",
       " 'eLzNJHzPelJpEyBwMrKo',\n",
       " 'InLrxElufkSAvhfyFcOA',\n",
       " 'DnxUhHWInKVDAWzwROOC',\n",
       " 'uqttCIyjtWRiZIgdaLzw',\n",
       " 'eYRDXZIocNyHVjEHzesr',\n",
       " 'HFaOtpcChAlcMuxEAlpu',\n",
       " 'JbyYOOELEiGGRhJbXfaq',\n",
       " 'nDmmJsJyAFLtSzhkbNao',\n",
       " 'xlrxvewIthVdRefMQCED',\n",
       " 'ZsHOHNXkbhgIDlKNiFMf',\n",
       " 'MQvSjpHGoGjbcBjfnLLm',\n",
       " 'oSQBbhIkNionRJpNbQfT',\n",
       " 'mtQufDECJCXyKwpKQPvz',\n",
       " 'DnEUulZAecfGPvdtZBYS',\n",
       " 'RTbrNgtiROQiwvJmxoMx',\n",
       " 'FNCczGzZUTzZVolDcPyC',\n",
       " 'ULAUPJGgNiZYQgwZwZGR',\n",
       " 'IEQWfmbTDVldQVpvhXpz',\n",
       " 'AHgbtEjTEsiUMJouiDYS',\n",
       " 'CFeqZLBNQdYHxJrTOHjY',\n",
       " 'mNTexKeDdCADhrBgkEeA',\n",
       " 'oZCzWSykfixnjMPDNjSU',\n",
       " 'hIlpdXTVGwzYWIOqvhtN',\n",
       " 'HKFjmDlYppkKqsWPogJt',\n",
       " 'opEZzhCrCCxqjKDmOcMK',\n",
       " 'DpZgNFPlBxxSZpGFMXkk',\n",
       " 'iNFgfQPqHPBuvGCYtrQE',\n",
       " 'OOVxbzAjWMBOhTQWJgLx',\n",
       " 'DlnuGwaJBHGNEKdWfOpe',\n",
       " 'RxecHElWobBxIeAkqFXV',\n",
       " 'NwLFDlNWnYxuLZEAZppl',\n",
       " 'WRHPhoRKhKxaenRCLBfo',\n",
       " 'vNNYHvZtTVtJICHsjBBL',\n",
       " 'yjIcHowrPNcMWjOzgULE',\n",
       " 'fDLlAcSmythWSCVMvqvL',\n",
       " 'VdeFdoGCqZBxFfKSHNLl',\n",
       " 'rgsINTLYFsElIlfRtNDP',\n",
       " 'ZHCJROlbqnkXTqIuVxnm',\n",
       " 'PsRRjEPKVbKXDDjZTzqz',\n",
       " 'pZxsQwZOmQEsKGihkkds',\n",
       " 'dGlVSdmIlgWDyOPjfwwy',\n",
       " 'juYouSPHPfKdXivEPJjt',\n",
       " 'nyJQufAIRtHFpfdZHSnK',\n",
       " 'vFcAhRxLfOWKhvxjELkx',\n",
       " 'nmfptFmSirEqNzAzqbXA',\n",
       " 'SgIUDYUKnyWHVowUOqid',\n",
       " 'yEzOkUNmavmsRTXaISLf',\n",
       " 'WDnvfdpXPXTQDKYDONXx',\n",
       " 'gaFBXpMUrvHAilRkjPSS',\n",
       " 'oetAUjPZXdyoRrCakDpG',\n",
       " 'nrKihqcWGIzDsOqljdAv',\n",
       " 'KclpemfoHstknWHFiLit',\n",
       " 'TxKUcPpthBDPieTGmVhx',\n",
       " 'fcXWTQaKfxbkBkBnzLhK',\n",
       " 'jqlUOdZBNZYfInQVcZlS',\n",
       " 'NmOxMbxOBZyJqqGcWBnH',\n",
       " 'hzrqPZyPrRXcOdyjRQRg',\n",
       " 'oBixMNCffOQtQcLCZfRN',\n",
       " 'SzZERoLMmrEUEhDaYcyN',\n",
       " 'maiZOsuEAMdeoRVsYoFk',\n",
       " 'yxJKymlSGVuKIPTxbysx',\n",
       " 'RqsdCUSLWHPAgkhPbCtP',\n",
       " 'HVQdipMDpgJKXAzecwqn',\n",
       " 'dIOSwfBKYOHWMhxrecPD',\n",
       " 'mIKayglJaKQZvgdtLfqT',\n",
       " 'LIWKeifdTCbuNeniIUqm',\n",
       " 'xEbgdGZJlqXAaRmeJQdW',\n",
       " 'jCIRaffxlokbeWIRXHKg',\n",
       " 'RYQFHbWRnjKqraTDuhGb',\n",
       " 'ArbfvYgWhqxkzywKqpQf',\n",
       " 'yfjcpPqMeNcSIiswGTeQ',\n",
       " 'DBLWVjTjVZuzWYWTaDfZ',\n",
       " 'KkNQdfTjqxnSBHFFEsRG',\n",
       " 'WEXkMlsnJodrzBgKJBpG',\n",
       " 'ZeHvxPFwjACxsjFESmAv',\n",
       " 'IFkbipeRquzIeCjUtxny',\n",
       " 'LigOnUObPodLDexszDtn',\n",
       " 'pczkWraIVRIheALfnmZp',\n",
       " 'EvhrtRzIJnQYHziPiLzV',\n",
       " 'gDBGzjFKYabGgSPZvrDH',\n",
       " 'XrGPrrQSYhqXkqYYpKzD',\n",
       " 'tYqhoeCFFOJSIpAAMpcU',\n",
       " 'PXQWdUxeUoXfoKzTBGpY',\n",
       " 'hdfUrLAimwwBitovrFPH',\n",
       " 'eGPqcrOyAyMvXPpbVMLD',\n",
       " 'PKriXrefSFPLBYtCRGSE',\n",
       " 'wlyUPieAGrQNIlkbmySd',\n",
       " 'WufphiXPXHjYKWOlEjpJ',\n",
       " 'bgTYkDHjOsJzMUtoGhiQ',\n",
       " 'VYDithpzdwvzdnmGEkfp',\n",
       " 'ghoaGAksqhKomdFrxgyJ',\n",
       " 'OwOCmIeWDzEyCQjXdfQO',\n",
       " 'EiQppLFrUZrUsjXVulLg',\n",
       " 'HbolMJUevblAbkHClEQa',\n",
       " 'zwpKjjsMoRVCdipntaHt',\n",
       " 'KoBBKFfLGZzJWZoFqBZs',\n",
       " 'xKilurCKKiYaehWwdleb',\n",
       " 'DWvtKQncdpXXfLBjBmGj',\n",
       " 'IsHcZJuNYwanAAEDxuOE',\n",
       " 'gPinzYOcsxiWLoYRKIhm',\n",
       " 'gzgFRUOHBtcBlPPtEMNK',\n",
       " 'JXhFObdOttDFJXtNDBuH',\n",
       " 'QKpFeggpjKAvhtjHKHZC',\n",
       " 'jOyKGQdOxpckcWAZCnNj',\n",
       " 'rHNgiupMNBtKyhTaWxJY',\n",
       " 'AuJjYKxJakEqFnCmyFtz',\n",
       " 'eTMcXJUftGtjDdKkZmfy',\n",
       " 'xIsdBlwlnRrEDzrJcfOx',\n",
       " 'klTrhUaShgnjIbaPmqjc',\n",
       " 'UbQpozKfTgYxQovHjkQM',\n",
       " 'BellrslNBZQZaIxVFGXJ',\n",
       " 'cnjXFDaLIoexZTiRFPQj',\n",
       " 'OtrdXnwzWFjzhNlHVLfd',\n",
       " 'woJzIcuFapkhnraMjtKA',\n",
       " 'CqeIpFwJscTsZoYXdHsP',\n",
       " 'IijdaxEpmKKxJWOGIWwC',\n",
       " 'bxOTvPtyGSdUrbwoXCPO',\n",
       " 'CgsxHpdTmXHvrHqEKRxp',\n",
       " 'YECMcEASiXejEJmgUmEG',\n",
       " 'HJnvbONaVHFanPpYHwts',\n",
       " 'fbFKcMumlScApQMqFIqp',\n",
       " 'YclHumxPxSxgzHfvCaeF',\n",
       " 'BmzdZLeVUBKtYeegQdDw',\n",
       " 'vjIFJEOjxEWepttdwCpg',\n",
       " 'rGDSdilqpnHoxSsEYvjb',\n",
       " 'BAZCuyHZnaPrMGOMrcCQ',\n",
       " 'KgicpPxiEQfzPlPwQZJq',\n",
       " 'tjKUGseGMhkLEzdCqBRx',\n",
       " 'pcvPxfVFaAmhwFmvIeYd',\n",
       " 'BHcvLfOaCWvWTykYqHVe',\n",
       " 'WiILFRDQbcHDHNvHzGpX',\n",
       " 'zhqxcsahQYAzJvRzebNp',\n",
       " 'zGUBrOvMRpLqBkJPUsYo',\n",
       " 'SHJidRpqXditMCUeEFzb',\n",
       " 'YAQGTUQbCohUIetXFGlm',\n",
       " 'RVKHNCFOYpjJjjAtwCgE',\n",
       " 'ZSALOpDDuJdQyGxrsDWn',\n",
       " 'aLJBnHfwxXTnAjVTpHFh',\n",
       " 'tasNSXvMCFllwbrJviyg',\n",
       " 'faqsogjxCvbseFqupueU',\n",
       " 'dyicZQGoeASogoSafjEh',\n",
       " 'SYQTbMrWPSQnOfTSlQxp',\n",
       " 'jaSOmLICuBzCFqHfBdRg',\n",
       " 'bZGRDuESNKqbvzmxXlpf',\n",
       " 'rKHSSStqLNTbdGVZMwfG',\n",
       " 'nSReTmyFtbSjlPrTKoaX',\n",
       " 'SbQJoCCWibshtEmQeuVM',\n",
       " 'XwZreaZvgptCcKQsSTmK',\n",
       " 'vGkKzmIaNOfwjXAcmSxP',\n",
       " 'YCKgTzTDywjcWyQudGch',\n",
       " 'XiUifkjKLLnomcDRhswp',\n",
       " 'gLXXuZYbFVYlDWhMmZiU']"
      ]
     },
     "execution_count": 32,
     "metadata": {},
     "output_type": "execute_result"
    }
   ],
   "source": [
    "#Получим список всех источников, кроме соц. сетей.\n",
    "other_sources = list(set(df.utm_source.tolist()))\n",
    "for i in range(len(social_network)):\n",
    "    other_sources.remove(social_network[i])\n",
    "\n",
    "print(other_sources)"
   ]
  },
  {
   "cell_type": "code",
   "execution_count": 49,
   "id": "1ca7a20b",
   "metadata": {},
   "outputs": [
    {
     "name": "stderr",
     "output_type": "stream",
     "text": [
      "100%|██████████| 59/59 [01:47<00:00,  1.82s/it]"
     ]
    },
    {
     "name": "stdout",
     "output_type": "stream",
     "text": [
      "Три лучших значений конверсии для соц.сетей:\n",
      "XzfzEBYZWgSDtJNXOadn = 25.0%, fJCYsujgSxIHFbOmgDdN = 22.94%, JcVHXwVSrnfIuOMMEkrJ = 11.11%\n"
     ]
    },
    {
     "name": "stderr",
     "output_type": "stream",
     "text": [
      "\n"
     ]
    },
    {
     "data": {
      "text/html": [
       "<div>\n",
       "<style scoped>\n",
       "    .dataframe tbody tr th:only-of-type {\n",
       "        vertical-align: middle;\n",
       "    }\n",
       "\n",
       "    .dataframe tbody tr th {\n",
       "        vertical-align: top;\n",
       "    }\n",
       "\n",
       "    .dataframe thead th {\n",
       "        text-align: right;\n",
       "    }\n",
       "</style>\n",
       "<table border=\"1\" class=\"dataframe\">\n",
       "  <thead>\n",
       "    <tr style=\"text-align: right;\">\n",
       "      <th></th>\n",
       "      <th>Источник</th>\n",
       "      <th>Conversion Rate</th>\n",
       "    </tr>\n",
       "  </thead>\n",
       "  <tbody>\n",
       "    <tr>\n",
       "      <th>0</th>\n",
       "      <td>XzfzEBYZWgSDtJNXOadn</td>\n",
       "      <td>25.00</td>\n",
       "    </tr>\n",
       "    <tr>\n",
       "      <th>1</th>\n",
       "      <td>fJCYsujgSxIHFbOmgDdN</td>\n",
       "      <td>22.94</td>\n",
       "    </tr>\n",
       "    <tr>\n",
       "      <th>2</th>\n",
       "      <td>JcVHXwVSrnfIuOMMEkrJ</td>\n",
       "      <td>11.11</td>\n",
       "    </tr>\n",
       "    <tr>\n",
       "      <th>3</th>\n",
       "      <td>hONgZhBaHwLGhvJSefNE</td>\n",
       "      <td>5.56</td>\n",
       "    </tr>\n",
       "    <tr>\n",
       "      <th>4</th>\n",
       "      <td>MlvrtLODeciGJoIzwoNf</td>\n",
       "      <td>3.12</td>\n",
       "    </tr>\n",
       "  </tbody>\n",
       "</table>\n",
       "</div>"
      ],
      "text/plain": [
       "               Источник  Conversion Rate\n",
       "0  XzfzEBYZWgSDtJNXOadn            25.00\n",
       "1  fJCYsujgSxIHFbOmgDdN            22.94\n",
       "2  JcVHXwVSrnfIuOMMEkrJ            11.11\n",
       "3  hONgZhBaHwLGhvJSefNE             5.56\n",
       "4  MlvrtLODeciGJoIzwoNf             3.12"
      ]
     },
     "execution_count": 49,
     "metadata": {},
     "output_type": "execute_result"
    }
   ],
   "source": [
    "#Расчитаем CR для прихода из других источников:\n",
    "L = df.utm_source.value_counts()[other_sources]\n",
    "cr_other= pd.DataFrame(columns=['Источник', 'Conversion Rate'])\n",
    "\n",
    "for i in tqdm(range(sum(L > 1000))):\n",
    "    if df.utm_source.value_counts()[i] > 1000:\n",
    "        target = sum((df.utm_source == L.keys()[i]) & (df.target == 1))        \n",
    "        all = L[i]\n",
    "        CR = round(target/all*100, 2)\n",
    "        cr_other.loc[len(cr_other.index)]=[L.keys()[i], CR]\n",
    "\n",
    "cr_other = cr_other.sort_values(by='Conversion Rate', ascending=False)\n",
    "cr_other.reset_index(drop=True, inplace=True)\n",
    "print(f\"Три лучших значений конверсии для соц.сетей:\\n{cr_other.at[0,'Источник']} = {cr_other.at[0,'Conversion Rate']}%, {cr_other.at[1,'Источник']} = {cr_other.at[1,'Conversion Rate']}%, {cr_other.at[2,'Источник']} = {cr_other.at[2,'Conversion Rate']}%\")\n",
    "cr_other.head()"
   ]
  },
  {
   "cell_type": "markdown",
   "id": "160569b2",
   "metadata": {},
   "source": [
    "#### CR от прихода с соц. сетей составляет от 0,17 до 0,75%, в то время как CR от прихода из других источников доходит до 25%. По моему мнению, не стоит увеличивать рекламную компанию в соц. сетях. Лучше сосредоточить ресурсы на другие источники. "
   ]
  },
  {
   "cell_type": "code",
   "execution_count": null,
   "id": "2436390c",
   "metadata": {},
   "outputs": [],
   "source": []
  }
 ],
 "metadata": {
  "kernelspec": {
   "display_name": "Python 3 (ipykernel)",
   "language": "python",
   "name": "python3"
  },
  "language_info": {
   "codemirror_mode": {
    "name": "ipython",
    "version": 3
   },
   "file_extension": ".py",
   "mimetype": "text/x-python",
   "name": "python",
   "nbconvert_exporter": "python",
   "pygments_lexer": "ipython3",
   "version": "3.9.13"
  }
 },
 "nbformat": 4,
 "nbformat_minor": 5
}
